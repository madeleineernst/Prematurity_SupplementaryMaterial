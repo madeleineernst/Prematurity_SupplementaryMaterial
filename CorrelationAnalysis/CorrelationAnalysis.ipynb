{
 "cells": [
  {
   "cell_type": "markdown",
   "metadata": {},
   "source": [
    "## Univariate correlation at the individual metabolite level using Kendall’s Tau "
   ]
  },
  {
   "cell_type": "markdown",
   "metadata": {},
   "source": [
    "load libraries"
   ]
  },
  {
   "cell_type": "code",
   "execution_count": 1,
   "metadata": {},
   "outputs": [],
   "source": [
    "library(beeswarm)\n",
    "library(ggplot2)"
   ]
  },
  {
   "cell_type": "markdown",
   "metadata": {},
   "source": [
    "load blank filtered feature table"
   ]
  },
  {
   "cell_type": "code",
   "execution_count": 2,
   "metadata": {},
   "outputs": [],
   "source": [
    "ft <- read.csv('../../featuretable_blankfiltered.tsv', sep = '\\t', check.names = F)"
   ]
  },
  {
   "cell_type": "code",
   "execution_count": 36,
   "metadata": {},
   "outputs": [
    {
     "data": {
      "text/html": [
       "<ol class=list-inline>\n",
       "\t<li>148</li>\n",
       "\t<li>6053</li>\n",
       "</ol>\n"
      ],
      "text/latex": [
       "\\begin{enumerate*}\n",
       "\\item 148\n",
       "\\item 6053\n",
       "\\end{enumerate*}\n"
      ],
      "text/markdown": [
       "1. 148\n",
       "2. 6053\n",
       "\n",
       "\n"
      ],
      "text/plain": [
       "[1]  148 6053"
      ]
     },
     "metadata": {},
     "output_type": "display_data"
    }
   ],
   "source": [
    "dim(ft)"
   ]
  },
  {
   "cell_type": "markdown",
   "metadata": {},
   "source": [
    "load metadata"
   ]
  },
  {
   "cell_type": "code",
   "execution_count": 4,
   "metadata": {},
   "outputs": [],
   "source": [
    "md <- read.table('../../metadata.tsv', sep = '\\t', header = T)"
   ]
  },
  {
   "cell_type": "code",
   "execution_count": 37,
   "metadata": {},
   "outputs": [
    {
     "data": {
      "text/html": [
       "<ol class=list-inline>\n",
       "\t<li>148</li>\n",
       "\t<li>14</li>\n",
       "</ol>\n"
      ],
      "text/latex": [
       "\\begin{enumerate*}\n",
       "\\item 148\n",
       "\\item 14\n",
       "\\end{enumerate*}\n"
      ],
      "text/markdown": [
       "1. 148\n",
       "2. 14\n",
       "\n",
       "\n"
      ],
      "text/plain": [
       "[1] 148  14"
      ]
     },
     "metadata": {},
     "output_type": "display_data"
    }
   ],
   "source": [
    "dim(md)"
   ]
  },
  {
   "cell_type": "markdown",
   "metadata": {},
   "source": [
    "are there any features with all zeros?"
   ]
  },
  {
   "cell_type": "code",
   "execution_count": 6,
   "metadata": {},
   "outputs": [
    {
     "data": {
      "text/html": [
       "0"
      ],
      "text/latex": [
       "0"
      ],
      "text/markdown": [
       "0"
      ],
      "text/plain": [
       "[1] 0"
      ]
     },
     "metadata": {},
     "output_type": "display_data"
    }
   ],
   "source": [
    "length(which(rowSums(ft[,2:ncol(ft)]) == 0))"
   ]
  },
  {
   "cell_type": "markdown",
   "metadata": {},
   "source": [
    "transpose feature table for correlation analysis"
   ]
  },
  {
   "cell_type": "code",
   "execution_count": 7,
   "metadata": {},
   "outputs": [],
   "source": [
    "ft <- as.data.frame(t(ft))\n",
    "colnames(ft) <- ft[1,]\n",
    "ft <- ft[-1,]"
   ]
  },
  {
   "cell_type": "markdown",
   "metadata": {},
   "source": [
    "match metadata with feature table and bring filenames in same order (this should return TRUE)"
   ]
  },
  {
   "cell_type": "code",
   "execution_count": 9,
   "metadata": {},
   "outputs": [
    {
     "data": {
      "text/html": [
       "TRUE"
      ],
      "text/latex": [
       "TRUE"
      ],
      "text/markdown": [
       "TRUE"
      ],
      "text/plain": [
       "[1] TRUE"
      ]
     },
     "metadata": {},
     "output_type": "display_data"
    }
   ],
   "source": [
    "md <- md[which(md$filename %in% rownames(ft)),]\n",
    "md <- md[match(rownames(ft),md$filename),]\n",
    "identical(as.character(md$filename),as.character(rownames(ft)))"
   ]
  },
  {
   "cell_type": "markdown",
   "metadata": {},
   "source": [
    "select metadata category for correlation analysis"
   ]
  },
  {
   "cell_type": "code",
   "execution_count": 10,
   "metadata": {},
   "outputs": [],
   "source": [
    "catscont <- md$ATTRIBUTE_Gestationsalder"
   ]
  },
  {
   "cell_type": "markdown",
   "metadata": {},
   "source": [
    "how many samples are there per gestational age?"
   ]
  },
  {
   "cell_type": "code",
   "execution_count": 11,
   "metadata": {},
   "outputs": [
    {
     "data": {
      "text/plain": [
       "catscont\n",
       "28 29 30 31 32 33 34 35 36 37 38 39 40 41 42 \n",
       "10 10  8 10 10 10 10 10 10 10 10 10 10 10 10 "
      ]
     },
     "metadata": {},
     "output_type": "display_data"
    }
   ],
   "source": [
    "table(catscont)"
   ]
  },
  {
   "cell_type": "markdown",
   "metadata": {},
   "source": [
    "normalize feature table by total ion current (TIC)"
   ]
  },
  {
   "cell_type": "code",
   "execution_count": 12,
   "metadata": {},
   "outputs": [],
   "source": [
    "ftt <- t(apply(ft, 1, function(x) (x)/sum((x))))"
   ]
  },
  {
   "cell_type": "markdown",
   "metadata": {},
   "source": [
    "assess correlation for one metabolite"
   ]
  },
  {
   "cell_type": "code",
   "execution_count": 14,
   "metadata": {},
   "outputs": [
    {
     "data": {
      "text/plain": [
       "\n",
       "\tKendall's rank correlation tau\n",
       "\n",
       "data:  catscont and scale(ftt[, 2])[, 1]\n",
       "z = 2.4266, p-value = 0.01524\n",
       "alternative hypothesis: true tau is not equal to 0\n",
       "sample estimates:\n",
       "      tau \n",
       "0.1384691 \n"
      ]
     },
     "metadata": {},
     "output_type": "display_data"
    }
   ],
   "source": [
    "cor.test(catscont, scale(ftt[,2])[,1], method = 'kendall')"
   ]
  },
  {
   "cell_type": "markdown",
   "metadata": {},
   "source": [
    "assess correlation for all metabolites and adjust p-values for multiple hypothesis testing"
   ]
  },
  {
   "cell_type": "code",
   "execution_count": 15,
   "metadata": {},
   "outputs": [],
   "source": [
    "corres <- t(sapply(1:ncol(ftt), function(x) unlist(cor.test(catscont, scale(ftt[,x])[,1], method = 'kendall')[c(\"estimate\", \"p.value\")])))\n",
    "corres <- cbind(corres,p.adjust(corres[,2], method = \"fdr\"))"
   ]
  },
  {
   "cell_type": "code",
   "execution_count": 16,
   "metadata": {},
   "outputs": [],
   "source": [
    "rownames(corres) <- colnames(ftt)\n",
    "corres <- cbind(corres,rownames(corres))\n",
    "colnames(corres) <- c('estimate.cor','p.value','p.value.corrected','cluster id')"
   ]
  },
  {
   "cell_type": "code",
   "execution_count": 17,
   "metadata": {},
   "outputs": [
    {
     "data": {
      "text/html": [
       "<table>\n",
       "<caption>A matrix: 6 × 4 of type chr</caption>\n",
       "<thead>\n",
       "\t<tr><th scope=col>estimate.cor</th><th scope=col>p.value</th><th scope=col>p.value.corrected</th><th scope=col>cluster id</th></tr>\n",
       "</thead>\n",
       "<tbody>\n",
       "\t<tr><td>0.148332656151525 </td><td>0.00933651479729077</td><td>0.0661755551147553</td><td>1</td></tr>\n",
       "\t<tr><td>0.138469103568559 </td><td>0.0152400223091763 </td><td>0.0928981420316659</td><td>2</td></tr>\n",
       "\t<tr><td>0.136382582829855 </td><td>0.0168456719471723 </td><td>0.0986139770756616</td><td>3</td></tr>\n",
       "\t<tr><td>0.130312704317261 </td><td>0.0223899737855434 </td><td>0.117883843888379 </td><td>4</td></tr>\n",
       "\t<tr><td>0.0422994658846421</td><td>0.4585213165765    </td><td>0.692645253116435 </td><td>5</td></tr>\n",
       "\t<tr><td>0.0474209258796436</td><td>0.40595342166953   </td><td>0.651594905855909 </td><td>6</td></tr>\n",
       "</tbody>\n",
       "</table>\n"
      ],
      "text/latex": [
       "A matrix: 6 × 4 of type chr\n",
       "\\begin{tabular}{r|llll}\n",
       " estimate.cor & p.value & p.value.corrected & cluster id\\\\\n",
       "\\hline\n",
       "\t 0.148332656151525  & 0.00933651479729077 & 0.0661755551147553 & 1\\\\\n",
       "\t 0.138469103568559  & 0.0152400223091763  & 0.0928981420316659 & 2\\\\\n",
       "\t 0.136382582829855  & 0.0168456719471723  & 0.0986139770756616 & 3\\\\\n",
       "\t 0.130312704317261  & 0.0223899737855434  & 0.117883843888379  & 4\\\\\n",
       "\t 0.0422994658846421 & 0.4585213165765     & 0.692645253116435  & 5\\\\\n",
       "\t 0.0474209258796436 & 0.40595342166953    & 0.651594905855909  & 6\\\\\n",
       "\\end{tabular}\n"
      ],
      "text/markdown": [
       "\n",
       "A matrix: 6 × 4 of type chr\n",
       "\n",
       "| estimate.cor | p.value | p.value.corrected | cluster id |\n",
       "|---|---|---|---|\n",
       "| 0.148332656151525  | 0.00933651479729077 | 0.0661755551147553 | 1 |\n",
       "| 0.138469103568559  | 0.0152400223091763  | 0.0928981420316659 | 2 |\n",
       "| 0.136382582829855  | 0.0168456719471723  | 0.0986139770756616 | 3 |\n",
       "| 0.130312704317261  | 0.0223899737855434  | 0.117883843888379  | 4 |\n",
       "| 0.0422994658846421 | 0.4585213165765     | 0.692645253116435  | 5 |\n",
       "| 0.0474209258796436 | 0.40595342166953    | 0.651594905855909  | 6 |\n",
       "\n"
      ],
      "text/plain": [
       "  estimate.cor       p.value             p.value.corrected  cluster id\n",
       "1 0.148332656151525  0.00933651479729077 0.0661755551147553 1         \n",
       "2 0.138469103568559  0.0152400223091763  0.0928981420316659 2         \n",
       "3 0.136382582829855  0.0168456719471723  0.0986139770756616 3         \n",
       "4 0.130312704317261  0.0223899737855434  0.117883843888379  4         \n",
       "5 0.0422994658846421 0.4585213165765     0.692645253116435  5         \n",
       "6 0.0474209258796436 0.40595342166953    0.651594905855909  6         "
      ]
     },
     "metadata": {},
     "output_type": "display_data"
    }
   ],
   "source": [
    "head(corres)"
   ]
  },
  {
   "cell_type": "markdown",
   "metadata": {},
   "source": [
    "save correlation coefficients and p-values to file for import into Cytoscape"
   ]
  },
  {
   "cell_type": "code",
   "execution_count": 18,
   "metadata": {},
   "outputs": [],
   "source": [
    "write.table(corres, 'KendallsTauCorrelation_GA.txt', sep = '\\t', quote = F, row.names = F)"
   ]
  },
  {
   "cell_type": "markdown",
   "metadata": {},
   "source": [
    "how many features are significantly correlated with gestational age after FDR correction?"
   ]
  },
  {
   "cell_type": "code",
   "execution_count": 19,
   "metadata": {},
   "outputs": [],
   "source": [
    "corressig <- corres[which(as.numeric(corres[,3]) < 0.05),]\n",
    "corressig <- corressig[order(corressig[,1]),]"
   ]
  },
  {
   "cell_type": "code",
   "execution_count": 20,
   "metadata": {
    "scrolled": true
   },
   "outputs": [
    {
     "data": {
      "text/html": [
       "<ol class=list-inline>\n",
       "\t<li>744</li>\n",
       "\t<li>4</li>\n",
       "</ol>\n"
      ],
      "text/latex": [
       "\\begin{enumerate*}\n",
       "\\item 744\n",
       "\\item 4\n",
       "\\end{enumerate*}\n"
      ],
      "text/markdown": [
       "1. 744\n",
       "2. 4\n",
       "\n",
       "\n"
      ],
      "text/plain": [
       "[1] 744   4"
      ]
     },
     "metadata": {},
     "output_type": "display_data"
    },
    {
     "data": {
      "text/html": [
       "0.122914257393028"
      ],
      "text/latex": [
       "0.122914257393028"
      ],
      "text/markdown": [
       "0.122914257393028"
      ],
      "text/plain": [
       "[1] 0.1229143"
      ]
     },
     "metadata": {},
     "output_type": "display_data"
    }
   ],
   "source": [
    "dim(corressig)\n",
    "nrow(corressig)/ncol(ft)"
   ]
  },
  {
   "cell_type": "code",
   "execution_count": 21,
   "metadata": {},
   "outputs": [
    {
     "data": {
      "text/html": [
       "<table>\n",
       "<caption>A matrix: 6 × 4 of type chr</caption>\n",
       "<thead>\n",
       "\t<tr><th></th><th scope=col>estimate.cor</th><th scope=col>p.value</th><th scope=col>p.value.corrected</th><th scope=col>cluster id</th></tr>\n",
       "</thead>\n",
       "<tbody>\n",
       "\t<tr><th scope=row>1383</th><td>-0.156868422809861</td><td>0.0059765290239984 </td><td>0.0489525442249829</td><td>1383</td></tr>\n",
       "\t<tr><th scope=row>895</th><td>-0.157437473920417</td><td>0.00579716584055939</td><td>0.0478068730693542</td><td>895 </td></tr>\n",
       "\t<tr><th scope=row>2342</th><td>-0.158028317531598</td><td>0.00562244050675711</td><td>0.046556268655815 </td><td>2342</td></tr>\n",
       "\t<tr><th scope=row>7694</th><td>-0.158913776493351</td><td>0.0060860094125607 </td><td>0.0497147300596895</td><td>7694</td></tr>\n",
       "\t<tr><th scope=row>3657</th><td>-0.159144627252084</td><td>0.00528782405165934</td><td>0.0447653132653063</td><td>3657</td></tr>\n",
       "\t<tr><th scope=row>33</th><td>-0.159334310955602</td><td>0.00523380135717488</td><td>0.0444322575245155</td><td>33  </td></tr>\n",
       "</tbody>\n",
       "</table>\n"
      ],
      "text/latex": [
       "A matrix: 6 × 4 of type chr\n",
       "\\begin{tabular}{r|llll}\n",
       "  & estimate.cor & p.value & p.value.corrected & cluster id\\\\\n",
       "\\hline\n",
       "\t1383 & -0.156868422809861 & 0.0059765290239984  & 0.0489525442249829 & 1383\\\\\n",
       "\t895 & -0.157437473920417 & 0.00579716584055939 & 0.0478068730693542 & 895 \\\\\n",
       "\t2342 & -0.158028317531598 & 0.00562244050675711 & 0.046556268655815  & 2342\\\\\n",
       "\t7694 & -0.158913776493351 & 0.0060860094125607  & 0.0497147300596895 & 7694\\\\\n",
       "\t3657 & -0.159144627252084 & 0.00528782405165934 & 0.0447653132653063 & 3657\\\\\n",
       "\t33 & -0.159334310955602 & 0.00523380135717488 & 0.0444322575245155 & 33  \\\\\n",
       "\\end{tabular}\n"
      ],
      "text/markdown": [
       "\n",
       "A matrix: 6 × 4 of type chr\n",
       "\n",
       "| <!--/--> | estimate.cor | p.value | p.value.corrected | cluster id |\n",
       "|---|---|---|---|---|\n",
       "| 1383 | -0.156868422809861 | 0.0059765290239984  | 0.0489525442249829 | 1383 |\n",
       "| 895 | -0.157437473920417 | 0.00579716584055939 | 0.0478068730693542 | 895  |\n",
       "| 2342 | -0.158028317531598 | 0.00562244050675711 | 0.046556268655815  | 2342 |\n",
       "| 7694 | -0.158913776493351 | 0.0060860094125607  | 0.0497147300596895 | 7694 |\n",
       "| 3657 | -0.159144627252084 | 0.00528782405165934 | 0.0447653132653063 | 3657 |\n",
       "| 33 | -0.159334310955602 | 0.00523380135717488 | 0.0444322575245155 | 33   |\n",
       "\n"
      ],
      "text/plain": [
       "     estimate.cor       p.value             p.value.corrected  cluster id\n",
       "1383 -0.156868422809861 0.0059765290239984  0.0489525442249829 1383      \n",
       "895  -0.157437473920417 0.00579716584055939 0.0478068730693542 895       \n",
       "2342 -0.158028317531598 0.00562244050675711 0.046556268655815  2342      \n",
       "7694 -0.158913776493351 0.0060860094125607  0.0497147300596895 7694      \n",
       "3657 -0.159144627252084 0.00528782405165934 0.0447653132653063 3657      \n",
       "33   -0.159334310955602 0.00523380135717488 0.0444322575245155 33        "
      ]
     },
     "metadata": {},
     "output_type": "display_data"
    }
   ],
   "source": [
    "head(corressig)"
   ]
  },
  {
   "cell_type": "markdown",
   "metadata": {},
   "source": [
    "### Plot results and match back to spectral library hits"
   ]
  },
  {
   "cell_type": "markdown",
   "metadata": {},
   "source": [
    "load GNPS spectral library data"
   ]
  },
  {
   "cell_type": "code",
   "execution_count": 22,
   "metadata": {},
   "outputs": [],
   "source": [
    "libids <- read.table('GNPSLibraryHits.tsv', sep = '\\t', header = T, quote = '', comment.char = \"\", check.names = F)"
   ]
  },
  {
   "cell_type": "code",
   "execution_count": 23,
   "metadata": {},
   "outputs": [
    {
     "data": {
      "text/html": [
       "<table>\n",
       "<caption>A data.frame: 6 × 36</caption>\n",
       "<thead>\n",
       "\t<tr><th scope=col>#Scan#</th><th scope=col>Adduct</th><th scope=col>CAS_Number</th><th scope=col>Charge</th><th scope=col>Compound_Name</th><th scope=col>Compound_Source</th><th scope=col>Data_Collector</th><th scope=col>ExactMass</th><th scope=col>FileScanUniqueID</th><th scope=col>INCHI</th><th scope=col>⋯</th><th scope=col>RT_Query</th><th scope=col>SharedPeaks</th><th scope=col>Smiles</th><th scope=col>SpecCharge</th><th scope=col>SpecMZ</th><th scope=col>SpectrumFile</th><th scope=col>SpectrumID</th><th scope=col>TIC_Query</th><th scope=col>UpdateWorkflowName</th><th scope=col>tags</th></tr>\n",
       "\t<tr><th scope=col>&lt;int&gt;</th><th scope=col>&lt;fct&gt;</th><th scope=col>&lt;fct&gt;</th><th scope=col>&lt;int&gt;</th><th scope=col>&lt;fct&gt;</th><th scope=col>&lt;fct&gt;</th><th scope=col>&lt;fct&gt;</th><th scope=col>&lt;dbl&gt;</th><th scope=col>&lt;fct&gt;</th><th scope=col>&lt;fct&gt;</th><th scope=col>⋯</th><th scope=col>&lt;int&gt;</th><th scope=col>&lt;int&gt;</th><th scope=col>&lt;fct&gt;</th><th scope=col>&lt;int&gt;</th><th scope=col>&lt;dbl&gt;</th><th scope=col>&lt;fct&gt;</th><th scope=col>&lt;fct&gt;</th><th scope=col>&lt;dbl&gt;</th><th scope=col>&lt;fct&gt;</th><th scope=col>&lt;fct&gt;</th></tr>\n",
       "</thead>\n",
       "<tbody>\n",
       "\t<tr><td>  100</td><td>M+H    </td><td>104983   </td><td>1</td><td>Spectral Match to 4-Imidazoleacrylic acid from NIST14                                                                                                                      </td><td>Isolated  </td><td>Data deposited by lfnothias</td><td>  0.000</td><td>spectra/specs_ms.mgf100  </td><td>N/A                                                                                                                                                                                                                              </td><td>⋯</td><td>0</td><td> 5</td><td>N/A                                                                                                           </td><td>1</td><td>139.050</td><td>spectra/specs_ms.mgf</td><td>CCMSLIB00003136584</td><td>23420000</td><td>UPDATE-SINGLE-ANNOTATED-BRONZE</td><td> </td></tr>\n",
       "\t<tr><td>10001</td><td>M+H    </td><td>20902458 </td><td>1</td><td>Spectral Match to Penicillamine disulfide from NIST14                                                                                                                      </td><td>Isolated  </td><td>Data deposited by amelnik  </td><td>  0.000</td><td>spectra/specs_ms.mgf10001</td><td>N/A                                                                                                                                                                                                                              </td><td>⋯</td><td>0</td><td> 8</td><td>N/A                                                                                                           </td><td>1</td><td>297.093</td><td>spectra/specs_ms.mgf</td><td>CCMSLIB00003137618</td><td>70327000</td><td>UPDATE-SINGLE-ANNOTATED-BRONZE</td><td> </td></tr>\n",
       "\t<tr><td>  101</td><td>M+H    </td><td>81130    </td><td>1</td><td>Spectral Match to Dexpanthenol from NIST14                                                                                                                                 </td><td>Isolated  </td><td>Data deposited by daniel   </td><td>  0.000</td><td>spectra/specs_ms.mgf101  </td><td>N/A                                                                                                                                                                                                                              </td><td>⋯</td><td>0</td><td> 7</td><td>N/A                                                                                                           </td><td>1</td><td>206.139</td><td>spectra/specs_ms.mgf</td><td>CCMSLIB00003135881</td><td>46390000</td><td>UPDATE-SINGLE-ANNOTATED-BRONZE</td><td> </td></tr>\n",
       "\t<tr><td>10153</td><td>[M+H]+ </td><td>979-92-0 </td><td>1</td><td>Massbank:PR100198 S-Adenosyl-L-homocysteine|AdoHcy|S-Adenosylhomocysteine|5'-Deoxy-S-adenosyl-L-homocysteine|S-(5'-Deoxyadenosine-5')-L-homocysteine|Formycinylhomocysteine</td><td>Isolated  </td><td>Massbank                   </td><td>  0.000</td><td>spectra/specs_ms.mgf10153</td><td>1S/C14H20N6O5S/c15-6(14(23)24)1-2-26-3-7-9(21)10(22)13(25-7)20-5-19-8-11(16)17-4-18-12(8)20/h4-7,9-10,13,21-22H,1-3,15H2,(H,23,24)(H2,16,17,18)/t6-,7+,9+,10+,13+/m0/s1                                                          </td><td>⋯</td><td>0</td><td> 4</td><td>OC(=O)[C@@H](N)CCSC[C@@H](O1)[C@@H](O)[C@@H](O)[C@@H]1n(c3)c(n2)c(n3)c(N)nc2                                  </td><td>1</td><td>385.129</td><td>spectra/specs_ms.mgf</td><td>CCMSLIB00000223026</td><td>  675400</td><td>UPDATE-SINGLE-ANNOTATED-BRONZE</td><td> </td></tr>\n",
       "\t<tr><td>10253</td><td>Cat    </td><td>752166395</td><td>1</td><td>Spectral Match to Hemin cation from NIST14                                                                                                                                 </td><td>Isolated  </td><td>Data deposited by t3hdon   </td><td>  0.000</td><td>spectra/specs_ms.mgf10253</td><td>N/A                                                                                                                                                                                                                              </td><td>⋯</td><td>0</td><td> 6</td><td>N/A                                                                                                           </td><td>1</td><td>616.177</td><td>spectra/specs_ms.mgf</td><td>CCMSLIB00003136854</td><td> 6482000</td><td>UPDATE-SINGLE-ANNOTATED-BRONZE</td><td> </td></tr>\n",
       "\t<tr><td>10334</td><td>M-H2O+H</td><td>?81-24-3 </td><td>1</td><td>taurocholic acid                                                                                                                                                           </td><td>commercial</td><td>A. Jarmusch                </td><td>515.292</td><td>spectra/specs_ms.mgf10334</td><td>1S/C26H45NO7S/c1-15(4-7-23(31)27-10-11-35(32,33)34)18-5-6-19-24-20(14-22(30)26(18,19)3)25(2)9-8-17(28)12-16(25)13-21(24)29/h15-22,24,28-30H,4-14H2,1-3H3,(H,27,31)(H,32,33,34)/t15?,16-,17+,18+,19-,20-,21+,22-,24-,25?,26?/m0/s1</td><td>⋯</td><td>0</td><td>16</td><td>C[C@H](CCC(=O)NCCS(=O)(=O)O)[C@H]1CC[C@@H]2[C@@]1([C@H](C[C@H]3[C@H]2[C@@H](C[C@H]4[C@@]3(CC[C@H](C4)O)C)O)O)C</td><td>1</td><td>498.288</td><td>spectra/specs_ms.mgf</td><td>CCMSLIB00005435562</td><td> 1374900</td><td>UPDATE-SINGLE-ANNOTATED-GOLD  </td><td> </td></tr>\n",
       "</tbody>\n",
       "</table>\n"
      ],
      "text/latex": [
       "A data.frame: 6 × 36\n",
       "\\begin{tabular}{r|llllllllllllllllllllllllllllllllllll}\n",
       " \\#Scan\\# & Adduct & CAS\\_Number & Charge & Compound\\_Name & Compound\\_Source & Data\\_Collector & ExactMass & FileScanUniqueID & INCHI & INCHI\\_AUX & Instrument & IonMode & Ion\\_Source & LibMZ & LibraryName & LibraryQualityString & Library\\_Class & MQScore & MZErrorPPM & MassDiff & NumberHits & Organism & PI & Precursor\\_MZ & Pubmed\\_ID & RT\\_Query & SharedPeaks & Smiles & SpecCharge & SpecMZ & SpectrumFile & SpectrumID & TIC\\_Query & UpdateWorkflowName & tags\\\\\n",
       " <int> & <fct> & <fct> & <int> & <fct> & <fct> & <fct> & <dbl> & <fct> & <fct> & <fct> & <fct> & <fct> & <fct> & <dbl> & <fct> & <fct> & <int> & <dbl> & <dbl> & <dbl> & <int> & <fct> & <fct> & <dbl> & <fct> & <int> & <int> & <fct> & <int> & <dbl> & <fct> & <fct> & <dbl> & <fct> & <fct>\\\\\n",
       "\\hline\n",
       "\t   100 & M+H     & 104983    & 1 & Spectral Match to 4-Imidazoleacrylic acid from NIST14                                                                                                                       & Isolated   & Data deposited by lfnothias &   0.000 & spectra/specs\\_ms.mgf100   & N/A                                                                                                                                                                                                                               & N/A & HCD         & Positive & ESI & 139.050 & lib-00031.mgf & Bronze & 3 & 0.976128 & 1.42657 & 0.000198364 & 1 & GNPS-NIST14-MATCHES & Data from Pieter Dorrestein                                                & 139.050 & N/A & 0 &  5 & N/A                                                                                                            & 1 & 139.050 & spectra/specs\\_ms.mgf & CCMSLIB00003136584 & 23420000 & UPDATE-SINGLE-ANNOTATED-BRONZE &  \\\\\n",
       "\t 10001 & M+H     & 20902458  & 1 & Spectral Match to Penicillamine disulfide from NIST14                                                                                                                       & Isolated   & Data deposited by amelnik   &   0.000 & spectra/specs\\_ms.mgf10001 & N/A                                                                                                                                                                                                                               & N/A & HCD         & Positive & ESI & 297.094 & lib-00031.mgf & Bronze & 3 & 0.901479 & 2.36257 & 0.000701904 & 1 & GNPS-NIST14-MATCHES & Data from Rob Knight                                                       & 297.094 & N/A & 0 &  8 & N/A                                                                                                            & 1 & 297.093 & spectra/specs\\_ms.mgf & CCMSLIB00003137618 & 70327000 & UPDATE-SINGLE-ANNOTATED-BRONZE &  \\\\\n",
       "\t   101 & M+H     & 81130     & 1 & Spectral Match to Dexpanthenol from NIST14                                                                                                                                  & Isolated   & Data deposited by daniel    &   0.000 & spectra/specs\\_ms.mgf101   & N/A                                                                                                                                                                                                                               & N/A & HCD         & Positive & ESI & 206.139 & lib-00031.mgf & Bronze & 3 & 0.934395 & 1.99859 & 0.000411987 & 1 & GNPS-NIST14-MATCHES & Data from Pieter Dorrestein                                                & 206.139 & N/A & 0 &  7 & N/A                                                                                                            & 1 & 206.139 & spectra/specs\\_ms.mgf & CCMSLIB00003135881 & 46390000 & UPDATE-SINGLE-ANNOTATED-BRONZE &  \\\\\n",
       "\t 10153 & {[}M+H{]}+  & 979-92-0  & 1 & Massbank:PR100198 S-Adenosyl-L-homocysteine\\textbar{}AdoHcy\\textbar{}S-Adenosylhomocysteine\\textbar{}5'-Deoxy-S-adenosyl-L-homocysteine\\textbar{}S-(5'-Deoxyadenosine-5')-L-homocysteine\\textbar{}Formycinylhomocysteine & Isolated   & Massbank                    &   0.000 & spectra/specs\\_ms.mgf10153 & 1S/C14H20N6O5S/c15-6(14(23)24)1-2-26-3-7-9(21)10(22)13(25-7)20-5-19-8-11(16)17-4-18-12(8)20/h4-7,9-10,13,21-22H,1-3,15H2,(H,23,24)(H2,16,17,18)/t6-,7+,9+,10+,13+/m0/s1                                                           & N/A & LC-ESI-QTOF & Positive & ESI & 385.129 & lib-00004.mgf & Bronze & 3 & 0.973122 & 0.00000 & 0.000000000 & 1 & MASSBANK            & Putative Massbank Match                                                    & 385.129 & N/A & 0 &  4 & OC(=O){[}C@@H{]}(N)CCSC{[}C@@H{]}(O1){[}C@@H{]}(O){[}C@@H{]}(O){[}C@@H{]}1n(c3)c(n2)c(n3)c(N)nc2                                   & 1 & 385.129 & spectra/specs\\_ms.mgf & CCMSLIB00000223026 &   675400 & UPDATE-SINGLE-ANNOTATED-BRONZE &  \\\\\n",
       "\t 10253 & Cat     & 752166395 & 1 & Spectral Match to Hemin cation from NIST14                                                                                                                                  & Isolated   & Data deposited by t3hdon    &   0.000 & spectra/specs\\_ms.mgf10253 & N/A                                                                                                                                                                                                                               & N/A & QqQ         & Positive & ESI & 616.180 & lib-00031.mgf & Bronze & 3 & 0.849142 & 5.34892 & 0.003295900 & 1 & GNPS-NIST14-MATCHES & Data from Pieter Dorrestein, Lone Gram, Marcelino Gutierrez, Maria Mansson & 616.180 & N/A & 0 &  6 & N/A                                                                                                            & 1 & 616.177 & spectra/specs\\_ms.mgf & CCMSLIB00003136854 &  6482000 & UPDATE-SINGLE-ANNOTATED-BRONZE &  \\\\\n",
       "\t 10334 & M-H2O+H & ?81-24-3  & 1 & taurocholic acid                                                                                                                                                            & commercial & A. Jarmusch                 & 515.292 & spectra/specs\\_ms.mgf10334 & 1S/C26H45NO7S/c1-15(4-7-23(31)27-10-11-35(32,33)34)18-5-6-19-24-20(14-22(30)26(18,19)3)25(2)9-8-17(28)12-16(25)13-21(24)29/h15-22,24,28-30H,4-14H2,1-3H3,(H,27,31)(H,32,33,34)/t15?,16-,17+,18+,19-,20-,21+,22-,24-,25?,26?/m0/s1 & N/A & Orbitrap    & Positive & ESI & 498.287 & lib-00001.mgf & Gold   & 1 & 0.912514 & 2.81727 & 0.001403810 & 1 & BILELIB19           & Dorrestein                                                                 & 498.287 & N/A & 0 & 16 & C{[}C@H{]}(CCC(=O)NCCS(=O)(=O)O){[}C@H{]}1CC{[}C@@H{]}2{[}C@@{]}1({[}C@H{]}(C{[}C@H{]}3{[}C@H{]}2{[}C@@H{]}(C{[}C@H{]}4{[}C@@{]}3(CC{[}C@H{]}(C4)O)C)O)O)C & 1 & 498.288 & spectra/specs\\_ms.mgf & CCMSLIB00005435562 &  1374900 & UPDATE-SINGLE-ANNOTATED-GOLD   &  \\\\\n",
       "\\end{tabular}\n"
      ],
      "text/markdown": [
       "\n",
       "A data.frame: 6 × 36\n",
       "\n",
       "| #Scan# &lt;int&gt; | Adduct &lt;fct&gt; | CAS_Number &lt;fct&gt; | Charge &lt;int&gt; | Compound_Name &lt;fct&gt; | Compound_Source &lt;fct&gt; | Data_Collector &lt;fct&gt; | ExactMass &lt;dbl&gt; | FileScanUniqueID &lt;fct&gt; | INCHI &lt;fct&gt; | ⋯ ⋯ | RT_Query &lt;int&gt; | SharedPeaks &lt;int&gt; | Smiles &lt;fct&gt; | SpecCharge &lt;int&gt; | SpecMZ &lt;dbl&gt; | SpectrumFile &lt;fct&gt; | SpectrumID &lt;fct&gt; | TIC_Query &lt;dbl&gt; | UpdateWorkflowName &lt;fct&gt; | tags &lt;fct&gt; |\n",
       "|---|---|---|---|---|---|---|---|---|---|---|---|---|---|---|---|---|---|---|---|---|\n",
       "|   100 | M+H     | 104983    | 1 | Spectral Match to 4-Imidazoleacrylic acid from NIST14                                                                                                                       | Isolated   | Data deposited by lfnothias |   0.000 | spectra/specs_ms.mgf100   | N/A                                                                                                                                                                                                                               | ⋯ | 0 |  5 | N/A                                                                                                            | 1 | 139.050 | spectra/specs_ms.mgf | CCMSLIB00003136584 | 23420000 | UPDATE-SINGLE-ANNOTATED-BRONZE | <!----> |\n",
       "| 10001 | M+H     | 20902458  | 1 | Spectral Match to Penicillamine disulfide from NIST14                                                                                                                       | Isolated   | Data deposited by amelnik   |   0.000 | spectra/specs_ms.mgf10001 | N/A                                                                                                                                                                                                                               | ⋯ | 0 |  8 | N/A                                                                                                            | 1 | 297.093 | spectra/specs_ms.mgf | CCMSLIB00003137618 | 70327000 | UPDATE-SINGLE-ANNOTATED-BRONZE | <!----> |\n",
       "|   101 | M+H     | 81130     | 1 | Spectral Match to Dexpanthenol from NIST14                                                                                                                                  | Isolated   | Data deposited by daniel    |   0.000 | spectra/specs_ms.mgf101   | N/A                                                                                                                                                                                                                               | ⋯ | 0 |  7 | N/A                                                                                                            | 1 | 206.139 | spectra/specs_ms.mgf | CCMSLIB00003135881 | 46390000 | UPDATE-SINGLE-ANNOTATED-BRONZE | <!----> |\n",
       "| 10153 | [M+H]+  | 979-92-0  | 1 | Massbank:PR100198 S-Adenosyl-L-homocysteine|AdoHcy|S-Adenosylhomocysteine|5'-Deoxy-S-adenosyl-L-homocysteine|S-(5'-Deoxyadenosine-5')-L-homocysteine|Formycinylhomocysteine | Isolated   | Massbank                    |   0.000 | spectra/specs_ms.mgf10153 | 1S/C14H20N6O5S/c15-6(14(23)24)1-2-26-3-7-9(21)10(22)13(25-7)20-5-19-8-11(16)17-4-18-12(8)20/h4-7,9-10,13,21-22H,1-3,15H2,(H,23,24)(H2,16,17,18)/t6-,7+,9+,10+,13+/m0/s1                                                           | ⋯ | 0 |  4 | OC(=O)[C@@H](N)CCSC[C@@H](O1)[C@@H](O)[C@@H](O)[C@@H]1n(c3)c(n2)c(n3)c(N)nc2                                   | 1 | 385.129 | spectra/specs_ms.mgf | CCMSLIB00000223026 |   675400 | UPDATE-SINGLE-ANNOTATED-BRONZE | <!----> |\n",
       "| 10253 | Cat     | 752166395 | 1 | Spectral Match to Hemin cation from NIST14                                                                                                                                  | Isolated   | Data deposited by t3hdon    |   0.000 | spectra/specs_ms.mgf10253 | N/A                                                                                                                                                                                                                               | ⋯ | 0 |  6 | N/A                                                                                                            | 1 | 616.177 | spectra/specs_ms.mgf | CCMSLIB00003136854 |  6482000 | UPDATE-SINGLE-ANNOTATED-BRONZE | <!----> |\n",
       "| 10334 | M-H2O+H | ?81-24-3  | 1 | taurocholic acid                                                                                                                                                            | commercial | A. Jarmusch                 | 515.292 | spectra/specs_ms.mgf10334 | 1S/C26H45NO7S/c1-15(4-7-23(31)27-10-11-35(32,33)34)18-5-6-19-24-20(14-22(30)26(18,19)3)25(2)9-8-17(28)12-16(25)13-21(24)29/h15-22,24,28-30H,4-14H2,1-3H3,(H,27,31)(H,32,33,34)/t15?,16-,17+,18+,19-,20-,21+,22-,24-,25?,26?/m0/s1 | ⋯ | 0 | 16 | C[C@H](CCC(=O)NCCS(=O)(=O)O)[C@H]1CC[C@@H]2[C@@]1([C@H](C[C@H]3[C@H]2[C@@H](C[C@H]4[C@@]3(CC[C@H](C4)O)C)O)O)C | 1 | 498.288 | spectra/specs_ms.mgf | CCMSLIB00005435562 |  1374900 | UPDATE-SINGLE-ANNOTATED-GOLD   | <!----> |\n",
       "\n"
      ],
      "text/plain": [
       "  #Scan# Adduct  CAS_Number Charge\n",
       "1   100  M+H     104983     1     \n",
       "2 10001  M+H     20902458   1     \n",
       "3   101  M+H     81130      1     \n",
       "4 10153  [M+H]+  979-92-0   1     \n",
       "5 10253  Cat     752166395  1     \n",
       "6 10334  M-H2O+H ?81-24-3   1     \n",
       "  Compound_Name                                                                                                                                                              \n",
       "1 Spectral Match to 4-Imidazoleacrylic acid from NIST14                                                                                                                      \n",
       "2 Spectral Match to Penicillamine disulfide from NIST14                                                                                                                      \n",
       "3 Spectral Match to Dexpanthenol from NIST14                                                                                                                                 \n",
       "4 Massbank:PR100198 S-Adenosyl-L-homocysteine|AdoHcy|S-Adenosylhomocysteine|5'-Deoxy-S-adenosyl-L-homocysteine|S-(5'-Deoxyadenosine-5')-L-homocysteine|Formycinylhomocysteine\n",
       "5 Spectral Match to Hemin cation from NIST14                                                                                                                                 \n",
       "6 taurocholic acid                                                                                                                                                           \n",
       "  Compound_Source Data_Collector              ExactMass\n",
       "1 Isolated        Data deposited by lfnothias   0.000  \n",
       "2 Isolated        Data deposited by amelnik     0.000  \n",
       "3 Isolated        Data deposited by daniel      0.000  \n",
       "4 Isolated        Massbank                      0.000  \n",
       "5 Isolated        Data deposited by t3hdon      0.000  \n",
       "6 commercial      A. Jarmusch                 515.292  \n",
       "  FileScanUniqueID         \n",
       "1 spectra/specs_ms.mgf100  \n",
       "2 spectra/specs_ms.mgf10001\n",
       "3 spectra/specs_ms.mgf101  \n",
       "4 spectra/specs_ms.mgf10153\n",
       "5 spectra/specs_ms.mgf10253\n",
       "6 spectra/specs_ms.mgf10334\n",
       "  INCHI                                                                                                                                                                                                                            \n",
       "1 N/A                                                                                                                                                                                                                              \n",
       "2 N/A                                                                                                                                                                                                                              \n",
       "3 N/A                                                                                                                                                                                                                              \n",
       "4 1S/C14H20N6O5S/c15-6(14(23)24)1-2-26-3-7-9(21)10(22)13(25-7)20-5-19-8-11(16)17-4-18-12(8)20/h4-7,9-10,13,21-22H,1-3,15H2,(H,23,24)(H2,16,17,18)/t6-,7+,9+,10+,13+/m0/s1                                                          \n",
       "5 N/A                                                                                                                                                                                                                              \n",
       "6 1S/C26H45NO7S/c1-15(4-7-23(31)27-10-11-35(32,33)34)18-5-6-19-24-20(14-22(30)26(18,19)3)25(2)9-8-17(28)12-16(25)13-21(24)29/h15-22,24,28-30H,4-14H2,1-3H3,(H,27,31)(H,32,33,34)/t15?,16-,17+,18+,19-,20-,21+,22-,24-,25?,26?/m0/s1\n",
       "  ⋯ RT_Query SharedPeaks\n",
       "1 ⋯ 0         5         \n",
       "2 ⋯ 0         8         \n",
       "3 ⋯ 0         7         \n",
       "4 ⋯ 0         4         \n",
       "5 ⋯ 0         6         \n",
       "6 ⋯ 0        16         \n",
       "  Smiles                                                                                                        \n",
       "1 N/A                                                                                                           \n",
       "2 N/A                                                                                                           \n",
       "3 N/A                                                                                                           \n",
       "4 OC(=O)[C@@H](N)CCSC[C@@H](O1)[C@@H](O)[C@@H](O)[C@@H]1n(c3)c(n2)c(n3)c(N)nc2                                  \n",
       "5 N/A                                                                                                           \n",
       "6 C[C@H](CCC(=O)NCCS(=O)(=O)O)[C@H]1CC[C@@H]2[C@@]1([C@H](C[C@H]3[C@H]2[C@@H](C[C@H]4[C@@]3(CC[C@H](C4)O)C)O)O)C\n",
       "  SpecCharge SpecMZ  SpectrumFile         SpectrumID         TIC_Query\n",
       "1 1          139.050 spectra/specs_ms.mgf CCMSLIB00003136584 23420000 \n",
       "2 1          297.093 spectra/specs_ms.mgf CCMSLIB00003137618 70327000 \n",
       "3 1          206.139 spectra/specs_ms.mgf CCMSLIB00003135881 46390000 \n",
       "4 1          385.129 spectra/specs_ms.mgf CCMSLIB00000223026   675400 \n",
       "5 1          616.177 spectra/specs_ms.mgf CCMSLIB00003136854  6482000 \n",
       "6 1          498.288 spectra/specs_ms.mgf CCMSLIB00005435562  1374900 \n",
       "  UpdateWorkflowName             tags\n",
       "1 UPDATE-SINGLE-ANNOTATED-BRONZE     \n",
       "2 UPDATE-SINGLE-ANNOTATED-BRONZE     \n",
       "3 UPDATE-SINGLE-ANNOTATED-BRONZE     \n",
       "4 UPDATE-SINGLE-ANNOTATED-BRONZE     \n",
       "5 UPDATE-SINGLE-ANNOTATED-BRONZE     \n",
       "6 UPDATE-SINGLE-ANNOTATED-GOLD       "
      ]
     },
     "metadata": {},
     "output_type": "display_data"
    },
    {
     "data": {
      "text/html": [
       "<ol class=list-inline>\n",
       "\t<li>206</li>\n",
       "\t<li>36</li>\n",
       "</ol>\n"
      ],
      "text/latex": [
       "\\begin{enumerate*}\n",
       "\\item 206\n",
       "\\item 36\n",
       "\\end{enumerate*}\n"
      ],
      "text/markdown": [
       "1. 206\n",
       "2. 36\n",
       "\n",
       "\n"
      ],
      "text/plain": [
       "[1] 206  36"
      ]
     },
     "metadata": {},
     "output_type": "display_data"
    }
   ],
   "source": [
    "head(libids)\n",
    "dim(libids)"
   ]
  },
  {
   "cell_type": "markdown",
   "metadata": {},
   "source": [
    "match correlation results to spectral library hits"
   ]
  },
  {
   "cell_type": "code",
   "execution_count": 24,
   "metadata": {},
   "outputs": [],
   "source": [
    "correslib <- cbind(corres, as.character(libids$Compound_Name[match(corres[,4],libids$`#Scan#`)]))"
   ]
  },
  {
   "cell_type": "code",
   "execution_count": 25,
   "metadata": {},
   "outputs": [
    {
     "data": {
      "text/html": [
       "<table>\n",
       "<caption>A matrix: 6 × 5 of type chr</caption>\n",
       "<thead>\n",
       "\t<tr><th scope=col>estimate.cor</th><th scope=col>p.value</th><th scope=col>p.value.corrected</th><th scope=col>cluster id</th><th scope=col></th></tr>\n",
       "</thead>\n",
       "<tbody>\n",
       "\t<tr><td>0.148332656151525 </td><td>0.00933651479729077</td><td>0.0661755551147553</td><td>1</td><td>NA      </td></tr>\n",
       "\t<tr><td>0.138469103568559 </td><td>0.0152400223091763 </td><td>0.0928981420316659</td><td>2</td><td>NA      </td></tr>\n",
       "\t<tr><td>0.136382582829855 </td><td>0.0168456719471723 </td><td>0.0986139770756616</td><td>3</td><td>NA      </td></tr>\n",
       "\t<tr><td>0.130312704317261 </td><td>0.0223899737855434 </td><td>0.117883843888379 </td><td>4</td><td>NA      </td></tr>\n",
       "\t<tr><td>0.0422994658846421</td><td>0.4585213165765    </td><td>0.692645253116435 </td><td>5</td><td>CREATINE</td></tr>\n",
       "\t<tr><td>0.0474209258796436</td><td>0.40595342166953   </td><td>0.651594905855909 </td><td>6</td><td>NA      </td></tr>\n",
       "</tbody>\n",
       "</table>\n"
      ],
      "text/latex": [
       "A matrix: 6 × 5 of type chr\n",
       "\\begin{tabular}{r|lllll}\n",
       " estimate.cor & p.value & p.value.corrected & cluster id & \\\\\n",
       "\\hline\n",
       "\t 0.148332656151525  & 0.00933651479729077 & 0.0661755551147553 & 1 & NA      \\\\\n",
       "\t 0.138469103568559  & 0.0152400223091763  & 0.0928981420316659 & 2 & NA      \\\\\n",
       "\t 0.136382582829855  & 0.0168456719471723  & 0.0986139770756616 & 3 & NA      \\\\\n",
       "\t 0.130312704317261  & 0.0223899737855434  & 0.117883843888379  & 4 & NA      \\\\\n",
       "\t 0.0422994658846421 & 0.4585213165765     & 0.692645253116435  & 5 & CREATINE\\\\\n",
       "\t 0.0474209258796436 & 0.40595342166953    & 0.651594905855909  & 6 & NA      \\\\\n",
       "\\end{tabular}\n"
      ],
      "text/markdown": [
       "\n",
       "A matrix: 6 × 5 of type chr\n",
       "\n",
       "| estimate.cor | p.value | p.value.corrected | cluster id | <!----> |\n",
       "|---|---|---|---|---|\n",
       "| 0.148332656151525  | 0.00933651479729077 | 0.0661755551147553 | 1 | NA       |\n",
       "| 0.138469103568559  | 0.0152400223091763  | 0.0928981420316659 | 2 | NA       |\n",
       "| 0.136382582829855  | 0.0168456719471723  | 0.0986139770756616 | 3 | NA       |\n",
       "| 0.130312704317261  | 0.0223899737855434  | 0.117883843888379  | 4 | NA       |\n",
       "| 0.0422994658846421 | 0.4585213165765     | 0.692645253116435  | 5 | CREATINE |\n",
       "| 0.0474209258796436 | 0.40595342166953    | 0.651594905855909  | 6 | NA       |\n",
       "\n"
      ],
      "text/plain": [
       "  estimate.cor       p.value             p.value.corrected  cluster id         \n",
       "1 0.148332656151525  0.00933651479729077 0.0661755551147553 1          NA      \n",
       "2 0.138469103568559  0.0152400223091763  0.0928981420316659 2          NA      \n",
       "3 0.136382582829855  0.0168456719471723  0.0986139770756616 3          NA      \n",
       "4 0.130312704317261  0.0223899737855434  0.117883843888379  4          NA      \n",
       "5 0.0422994658846421 0.4585213165765     0.692645253116435  5          CREATINE\n",
       "6 0.0474209258796436 0.40595342166953    0.651594905855909  6          NA      "
      ]
     },
     "metadata": {},
     "output_type": "display_data"
    }
   ],
   "source": [
    "head(correslib)"
   ]
  },
  {
   "cell_type": "markdown",
   "metadata": {},
   "source": [
    "how many features correlating significantly with gestational age (FDR adjusted p-value < 0.05) do have a spectral library match?"
   ]
  },
  {
   "cell_type": "code",
   "execution_count": 26,
   "metadata": {},
   "outputs": [],
   "source": [
    "sigs <- correslib[which(as.numeric(corres[,3]) < 0.05),]"
   ]
  },
  {
   "cell_type": "code",
   "execution_count": 27,
   "metadata": {},
   "outputs": [
    {
     "data": {
      "text/html": [
       "<ol class=list-inline>\n",
       "\t<li>744</li>\n",
       "\t<li>5</li>\n",
       "</ol>\n"
      ],
      "text/latex": [
       "\\begin{enumerate*}\n",
       "\\item 744\n",
       "\\item 5\n",
       "\\end{enumerate*}\n"
      ],
      "text/markdown": [
       "1. 744\n",
       "2. 5\n",
       "\n",
       "\n"
      ],
      "text/plain": [
       "[1] 744   5"
      ]
     },
     "metadata": {},
     "output_type": "display_data"
    }
   ],
   "source": [
    "dim(sigs)"
   ]
  },
  {
   "cell_type": "code",
   "execution_count": 28,
   "metadata": {},
   "outputs": [
    {
     "data": {
      "text/html": [
       "<table>\n",
       "<caption>A matrix: 40 × 5 of type chr</caption>\n",
       "<thead>\n",
       "\t<tr><th></th><th scope=col>estimate.cor</th><th scope=col>p.value</th><th scope=col>p.value.corrected</th><th scope=col>cluster id</th><th scope=col></th></tr>\n",
       "</thead>\n",
       "<tbody>\n",
       "\t<tr><th scope=row>33</th><td>-0.159334310955602</td><td>0.00523380135717488 </td><td>0.0444322575245155  </td><td>33   </td><td>Massbank:PB000483 Spermidine|N-(3-aminopropyl)butane-1,4-diamine                                                                                                                                           </td></tr>\n",
       "\t<tr><th scope=row>36</th><td>0.346741810031954 </td><td>1.22808311277163e-09</td><td>1.00453879481171e-07</td><td>36   </td><td>Spectral Match to Betaine from NIST14                                                                                                                                                                      </td></tr>\n",
       "\t<tr><th scope=row>65</th><td>-0.205996502021172</td><td>0.000306174115258615</td><td>0.00531023472682063 </td><td>65   </td><td>Massbank:EA030311 Caffeine|1,3,7-trimethyl-3,7-dihydro-1H-purine-2,6-dione|1,3,7-trimethylpurine-2,6-dione                                                                                                 </td></tr>\n",
       "\t<tr><th scope=row>78</th><td>0.158765259845047 </td><td>0.00539738301921214 </td><td>0.0453754991879043  </td><td>78   </td><td>Glutamic acid                                                                                                                                                                                              </td></tr>\n",
       "\t<tr><th scope=row>92</th><td>-0.278645360468786</td><td>1.04395809714914e-06</td><td>4.15728839608141e-05</td><td>92   </td><td>Spermine                                                                                                                                                                                                   </td></tr>\n",
       "\t<tr><th scope=row>100</th><td>0.411234269228269 </td><td>5.73063457139175e-13</td><td>1.02022150178336e-10</td><td>100  </td><td>Spectral Match to 4-Imidazoleacrylic acid from NIST14                                                                                                                                                      </td></tr>\n",
       "\t<tr><th scope=row>109</th><td>0.329290909308245 </td><td>7.89371001079464e-09</td><td>4.97714861409792e-07</td><td>109  </td><td>Glutamine                                                                                                                                                                                                  </td></tr>\n",
       "\t<tr><th scope=row>214</th><td>0.362485557423996 </td><td>2.11929630666044e-10</td><td>2.13801675736928e-08</td><td>214  </td><td>OPHTHALMIC ACID                                                                                                                                                                                            </td></tr>\n",
       "\t<tr><th scope=row>493</th><td>0.195753582031169 </td><td>0.000602435188327556</td><td>0.00878684384324505 </td><td>493  </td><td>\"NEPSILON,NEPSILON,NEPSILON-TRIMETHYLLYSINE\"                                                                                                                                                               </td></tr>\n",
       "\t<tr><th scope=row>511</th><td>0.362864924831033 </td><td>2.02958125083275e-10</td><td>2.08221276462553e-08</td><td>511  </td><td>Spectral Match to L-Histidine from METLIN                                                                                                                                                                  </td></tr>\n",
       "\t<tr><th scope=row>830</th><td>-0.232552220513772</td><td>4.59354330244864e-05</td><td>0.00114895527312899 </td><td>830  </td><td>ReSpect:PT102580 Inosine-5'-monophosphate|IMP|5'-IMP|I-5'-P|5'-inosinate|Inosinic Acid|[(2R,3S,4R,5R)-3,4-dihydroxy-5-(6-oxo-3H-purin-9-yl)oxolan-2-yl]methyl dihydrogen phosphate                         </td></tr>\n",
       "\t<tr><th scope=row>913</th><td>0.329861352079134 </td><td>4.51827188962395e-08</td><td>2.27909164565781e-06</td><td>913  </td><td>Serine                                                                                                                                                                                                     </td></tr>\n",
       "\t<tr><th scope=row>1093</th><td>-0.360399036685291</td><td>2.68642574999149e-10</td><td>2.6433019862988e-08 </td><td>1093 </td><td>Massbank:PR100308 N1-Acetylspermine|N'-Monoacetylspermine                                                                                                                                                  </td></tr>\n",
       "\t<tr><th scope=row>2262</th><td>0.254093000346501 </td><td>8.47989940719387e-06</td><td>0.000278961038650785</td><td>2262 </td><td>Spectral Match to Leu-Pro from NIST14                                                                                                                                                                      </td></tr>\n",
       "\t<tr><th scope=row>2396</th><td>-0.167838225713394</td><td>0.00332781894052032 </td><td>0.032085712717394   </td><td>2396 </td><td>phenylacetylglutamine                                                                                                                                                                                      </td></tr>\n",
       "\t<tr><th scope=row>2602</th><td>0.275326919530975 </td><td>1.46587116026365e-06</td><td>5.72446331166187e-05</td><td>2602 </td><td>Spectral Match to Phe-Phe from NIST14                                                                                                                                                                      </td></tr>\n",
       "\t<tr><th scope=row>3082</th><td>-0.186079713151721</td><td>0.00111026161248713 </td><td>0.0145779035583181  </td><td>3082 </td><td>glycocholic acid                                                                                                                                                                                           </td></tr>\n",
       "\t<tr><th scope=row>3696</th><td>0.392076215172893 </td><td>6.37517141195547e-12</td><td>9.18783632299202e-10</td><td>3696 </td><td>Spectral Match to Ile-Lys from NIST14                                                                                                                                                                      </td></tr>\n",
       "\t<tr><th scope=row>3749</th><td>0.239436020665093 </td><td>2.91075454202075e-05</td><td>0.000797230644472923</td><td>3749 </td><td>Spectral Match to His-Pro from NIST14                                                                                                                                                                      </td></tr>\n",
       "\t<tr><th scope=row>4110</th><td>0.309997001754837 </td><td>2.07906375760044e-07</td><td>9.53376736723897e-06</td><td>4110 </td><td>Spectral Match to PyroGlu-Val from NIST14                                                                                                                                                                  </td></tr>\n",
       "\t<tr><th scope=row>4580</th><td>-0.184645717229806</td><td>0.00122531394758684 </td><td>0.0157136129761507  </td><td>4580 </td><td>Glycocholic Acid                                                                                                                                                                                           </td></tr>\n",
       "\t<tr><th scope=row>4931</th><td>-0.230571139918755</td><td>5.33371002994792e-05</td><td>0.00130181237142237 </td><td>4931 </td><td>Spectral Match to Glycocholic acid from NIST14                                                                                                                                                             </td></tr>\n",
       "\t<tr><th scope=row>9473</th><td>-0.167732954204037</td><td>0.00472996867214522 </td><td>0.0414934788007174  </td><td>9473 </td><td>Spectral Match to Adenosine, 5'-S-methyl-5'-thio- from NIST14                                                                                                                                              </td></tr>\n",
       "\t<tr><th scope=row>9666</th><td>0.166907132464673 </td><td>0.00392877143839818 </td><td>0.0359770855017008  </td><td>9666 </td><td>Spectral Match to L-Kynurenine from NIST14                                                                                                                                                                 </td></tr>\n",
       "\t<tr><th scope=row>9812</th><td>-0.253818646325267</td><td>8.7427031455807e-06 </td><td>0.000282992417862032</td><td>9812 </td><td>glycocholic acid                                                                                                                                                                                           </td></tr>\n",
       "\t<tr><th scope=row>9848</th><td>-0.219866057122998</td><td>0.000118317507177831</td><td>0.00249418757173727 </td><td>9848 </td><td>glycocholic acid                                                                                                                                                                                           </td></tr>\n",
       "\t<tr><th scope=row>10001</th><td>-0.207820746763713</td><td>0.00210648994582352 </td><td>0.0231408051580214  </td><td>10001</td><td>Spectral Match to Penicillamine disulfide from NIST14                                                                                                                                                      </td></tr>\n",
       "\t<tr><th scope=row>10635</th><td>-0.22885778963542 </td><td>8.48073653231726e-05</td><td>0.00187349993540571 </td><td>10635</td><td>taurohyodeoxycholic acid                                                                                                                                                                                   </td></tr>\n",
       "\t<tr><th scope=row>10897</th><td>-0.233797237380572</td><td>8.60967239290956e-05</td><td>0.00189506716342842 </td><td>10897</td><td>Spectral Match to D-(+)-Cellobiose from NIST14                                                                                                                                                             </td></tr>\n",
       "\t<tr><th scope=row>11066</th><td>-0.306729511190969</td><td>6.19347624067372e-07</td><td>2.60341053366653e-05</td><td>11066</td><td>taurohyocholic acid                                                                                                                                                                                        </td></tr>\n",
       "\t<tr><th scope=row>12284</th><td>-0.215377046639085</td><td>0.000572593661745496</td><td>0.00839203252916583 </td><td>12284</td><td>taurohyocholic acid                                                                                                                                                                                        </td></tr>\n",
       "\t<tr><th scope=row>13729</th><td>-0.246675918161818</td><td>9.90722799050016e-05</td><td>0.00213658474623729 </td><td>13729</td><td>Spectral Match to Taurocholic acid from NIST14                                                                                                                                                             </td></tr>\n",
       "\t<tr><th scope=row>14019</th><td>0.294066866697169 </td><td>1.9702915500272e-06 </td><td>7.45385922019664e-05</td><td>14019</td><td>hyocholic acid                                                                                                                                                                                             </td></tr>\n",
       "\t<tr><th scope=row>14969</th><td>-0.310529866545879</td><td>6.28566954240036e-07</td><td>2.62394191311375e-05</td><td>14969</td><td>Massbank:PR100340 1-Lauroyl-2-hydroxy-sn-glycero-3-phosphocholine|12:0 LysoPC|1-Dodecanoyllysolecithin|Phosphocholine,1-Lauroyl-2-Hydroxy-sn-Glycero-3-|\"Phosphocholine,1-Lauroyl-2-Hydroxy-sn-Glycero-3- \"</td></tr>\n",
       "\t<tr><th scope=row>16983</th><td>-0.259775589191818</td><td>6.54280427234493e-06</td><td>0.000223749120115841</td><td>16983</td><td>taurohyodeoxycholic acid                                                                                                                                                                                   </td></tr>\n",
       "\t<tr><th scope=row>17174</th><td>-0.292123196240855</td><td>7.21783958938645e-06</td><td>0.000241378911793128</td><td>17174</td><td>3-UREIDOPROPIONATE                                                                                                                                                                                         </td></tr>\n",
       "\t<tr><th scope=row>19209</th><td>-0.206102855569002</td><td>0.00188967449003564 </td><td>0.021419849603344   </td><td>19209</td><td>Spectral Match to D-Mannitol from NIST14                                                                                                                                                                   </td></tr>\n",
       "\t<tr><th scope=row>24510</th><td>-0.182935069502456</td><td>0.00318389782666875 </td><td>0.0311278252594751  </td><td>24510</td><td>Spectral Match to Cholic acid from NIST14                                                                                                                                                                  </td></tr>\n",
       "\t<tr><th scope=row>46209</th><td>-0.202963647328544</td><td>0.0033606558844275  </td><td>0.0321650593330702  </td><td>46209</td><td>Spectral Match to Cefuroxime from NIST14                                                                                                                                                                   </td></tr>\n",
       "\t<tr><th scope=row>63633</th><td>-0.204200142647808</td><td>0.0026481962348689  </td><td>0.0274949087644279  </td><td>63633</td><td>Uridine                                                                                                                                                                                                    </td></tr>\n",
       "</tbody>\n",
       "</table>\n"
      ],
      "text/latex": [
       "A matrix: 40 × 5 of type chr\n",
       "\\begin{tabular}{r|lllll}\n",
       "  & estimate.cor & p.value & p.value.corrected & cluster id & \\\\\n",
       "\\hline\n",
       "\t33 & -0.159334310955602 & 0.00523380135717488  & 0.0444322575245155   & 33    & Massbank:PB000483 Spermidine\\textbar{}N-(3-aminopropyl)butane-1,4-diamine                                                                                                                                           \\\\\n",
       "\t36 & 0.346741810031954  & 1.22808311277163e-09 & 1.00453879481171e-07 & 36    & Spectral Match to Betaine from NIST14                                                                                                                                                                      \\\\\n",
       "\t65 & -0.205996502021172 & 0.000306174115258615 & 0.00531023472682063  & 65    & Massbank:EA030311 Caffeine\\textbar{}1,3,7-trimethyl-3,7-dihydro-1H-purine-2,6-dione\\textbar{}1,3,7-trimethylpurine-2,6-dione                                                                                                 \\\\\n",
       "\t78 & 0.158765259845047  & 0.00539738301921214  & 0.0453754991879043   & 78    & Glutamic acid                                                                                                                                                                                              \\\\\n",
       "\t92 & -0.278645360468786 & 1.04395809714914e-06 & 4.15728839608141e-05 & 92    & Spermine                                                                                                                                                                                                   \\\\\n",
       "\t100 & 0.411234269228269  & 5.73063457139175e-13 & 1.02022150178336e-10 & 100   & Spectral Match to 4-Imidazoleacrylic acid from NIST14                                                                                                                                                      \\\\\n",
       "\t109 & 0.329290909308245  & 7.89371001079464e-09 & 4.97714861409792e-07 & 109   & Glutamine                                                                                                                                                                                                  \\\\\n",
       "\t214 & 0.362485557423996  & 2.11929630666044e-10 & 2.13801675736928e-08 & 214   & OPHTHALMIC ACID                                                                                                                                                                                            \\\\\n",
       "\t493 & 0.195753582031169  & 0.000602435188327556 & 0.00878684384324505  & 493   & \"NEPSILON,NEPSILON,NEPSILON-TRIMETHYLLYSINE\"                                                                                                                                                               \\\\\n",
       "\t511 & 0.362864924831033  & 2.02958125083275e-10 & 2.08221276462553e-08 & 511   & Spectral Match to L-Histidine from METLIN                                                                                                                                                                  \\\\\n",
       "\t830 & -0.232552220513772 & 4.59354330244864e-05 & 0.00114895527312899  & 830   & ReSpect:PT102580 Inosine-5'-monophosphate\\textbar{}IMP\\textbar{}5'-IMP\\textbar{}I-5'-P\\textbar{}5'-inosinate\\textbar{}Inosinic Acid\\textbar{}{[}(2R,3S,4R,5R)-3,4-dihydroxy-5-(6-oxo-3H-purin-9-yl)oxolan-2-yl{]}methyl dihydrogen phosphate                         \\\\\n",
       "\t913 & 0.329861352079134  & 4.51827188962395e-08 & 2.27909164565781e-06 & 913   & Serine                                                                                                                                                                                                     \\\\\n",
       "\t1093 & -0.360399036685291 & 2.68642574999149e-10 & 2.6433019862988e-08  & 1093  & Massbank:PR100308 N1-Acetylspermine\\textbar{}N'-Monoacetylspermine                                                                                                                                                  \\\\\n",
       "\t2262 & 0.254093000346501  & 8.47989940719387e-06 & 0.000278961038650785 & 2262  & Spectral Match to Leu-Pro from NIST14                                                                                                                                                                      \\\\\n",
       "\t2396 & -0.167838225713394 & 0.00332781894052032  & 0.032085712717394    & 2396  & phenylacetylglutamine                                                                                                                                                                                      \\\\\n",
       "\t2602 & 0.275326919530975  & 1.46587116026365e-06 & 5.72446331166187e-05 & 2602  & Spectral Match to Phe-Phe from NIST14                                                                                                                                                                      \\\\\n",
       "\t3082 & -0.186079713151721 & 0.00111026161248713  & 0.0145779035583181   & 3082  & glycocholic acid                                                                                                                                                                                           \\\\\n",
       "\t3696 & 0.392076215172893  & 6.37517141195547e-12 & 9.18783632299202e-10 & 3696  & Spectral Match to Ile-Lys from NIST14                                                                                                                                                                      \\\\\n",
       "\t3749 & 0.239436020665093  & 2.91075454202075e-05 & 0.000797230644472923 & 3749  & Spectral Match to His-Pro from NIST14                                                                                                                                                                      \\\\\n",
       "\t4110 & 0.309997001754837  & 2.07906375760044e-07 & 9.53376736723897e-06 & 4110  & Spectral Match to PyroGlu-Val from NIST14                                                                                                                                                                  \\\\\n",
       "\t4580 & -0.184645717229806 & 0.00122531394758684  & 0.0157136129761507   & 4580  & Glycocholic Acid                                                                                                                                                                                           \\\\\n",
       "\t4931 & -0.230571139918755 & 5.33371002994792e-05 & 0.00130181237142237  & 4931  & Spectral Match to Glycocholic acid from NIST14                                                                                                                                                             \\\\\n",
       "\t9473 & -0.167732954204037 & 0.00472996867214522  & 0.0414934788007174   & 9473  & Spectral Match to Adenosine, 5'-S-methyl-5'-thio- from NIST14                                                                                                                                              \\\\\n",
       "\t9666 & 0.166907132464673  & 0.00392877143839818  & 0.0359770855017008   & 9666  & Spectral Match to L-Kynurenine from NIST14                                                                                                                                                                 \\\\\n",
       "\t9812 & -0.253818646325267 & 8.7427031455807e-06  & 0.000282992417862032 & 9812  & glycocholic acid                                                                                                                                                                                           \\\\\n",
       "\t9848 & -0.219866057122998 & 0.000118317507177831 & 0.00249418757173727  & 9848  & glycocholic acid                                                                                                                                                                                           \\\\\n",
       "\t10001 & -0.207820746763713 & 0.00210648994582352  & 0.0231408051580214   & 10001 & Spectral Match to Penicillamine disulfide from NIST14                                                                                                                                                      \\\\\n",
       "\t10635 & -0.22885778963542  & 8.48073653231726e-05 & 0.00187349993540571  & 10635 & taurohyodeoxycholic acid                                                                                                                                                                                   \\\\\n",
       "\t10897 & -0.233797237380572 & 8.60967239290956e-05 & 0.00189506716342842  & 10897 & Spectral Match to D-(+)-Cellobiose from NIST14                                                                                                                                                             \\\\\n",
       "\t11066 & -0.306729511190969 & 6.19347624067372e-07 & 2.60341053366653e-05 & 11066 & taurohyocholic acid                                                                                                                                                                                        \\\\\n",
       "\t12284 & -0.215377046639085 & 0.000572593661745496 & 0.00839203252916583  & 12284 & taurohyocholic acid                                                                                                                                                                                        \\\\\n",
       "\t13729 & -0.246675918161818 & 9.90722799050016e-05 & 0.00213658474623729  & 13729 & Spectral Match to Taurocholic acid from NIST14                                                                                                                                                             \\\\\n",
       "\t14019 & 0.294066866697169  & 1.9702915500272e-06  & 7.45385922019664e-05 & 14019 & hyocholic acid                                                                                                                                                                                             \\\\\n",
       "\t14969 & -0.310529866545879 & 6.28566954240036e-07 & 2.62394191311375e-05 & 14969 & Massbank:PR100340 1-Lauroyl-2-hydroxy-sn-glycero-3-phosphocholine\\textbar{}12:0 LysoPC\\textbar{}1-Dodecanoyllysolecithin\\textbar{}Phosphocholine,1-Lauroyl-2-Hydroxy-sn-Glycero-3-\\textbar{}\"Phosphocholine,1-Lauroyl-2-Hydroxy-sn-Glycero-3- \"\\\\\n",
       "\t16983 & -0.259775589191818 & 6.54280427234493e-06 & 0.000223749120115841 & 16983 & taurohyodeoxycholic acid                                                                                                                                                                                   \\\\\n",
       "\t17174 & -0.292123196240855 & 7.21783958938645e-06 & 0.000241378911793128 & 17174 & 3-UREIDOPROPIONATE                                                                                                                                                                                         \\\\\n",
       "\t19209 & -0.206102855569002 & 0.00188967449003564  & 0.021419849603344    & 19209 & Spectral Match to D-Mannitol from NIST14                                                                                                                                                                   \\\\\n",
       "\t24510 & -0.182935069502456 & 0.00318389782666875  & 0.0311278252594751   & 24510 & Spectral Match to Cholic acid from NIST14                                                                                                                                                                  \\\\\n",
       "\t46209 & -0.202963647328544 & 0.0033606558844275   & 0.0321650593330702   & 46209 & Spectral Match to Cefuroxime from NIST14                                                                                                                                                                   \\\\\n",
       "\t63633 & -0.204200142647808 & 0.0026481962348689   & 0.0274949087644279   & 63633 & Uridine                                                                                                                                                                                                    \\\\\n",
       "\\end{tabular}\n"
      ],
      "text/markdown": [
       "\n",
       "A matrix: 40 × 5 of type chr\n",
       "\n",
       "| <!--/--> | estimate.cor | p.value | p.value.corrected | cluster id | <!----> |\n",
       "|---|---|---|---|---|---|\n",
       "| 33 | -0.159334310955602 | 0.00523380135717488  | 0.0444322575245155   | 33    | Massbank:PB000483 Spermidine|N-(3-aminopropyl)butane-1,4-diamine                                                                                                                                            |\n",
       "| 36 | 0.346741810031954  | 1.22808311277163e-09 | 1.00453879481171e-07 | 36    | Spectral Match to Betaine from NIST14                                                                                                                                                                       |\n",
       "| 65 | -0.205996502021172 | 0.000306174115258615 | 0.00531023472682063  | 65    | Massbank:EA030311 Caffeine|1,3,7-trimethyl-3,7-dihydro-1H-purine-2,6-dione|1,3,7-trimethylpurine-2,6-dione                                                                                                  |\n",
       "| 78 | 0.158765259845047  | 0.00539738301921214  | 0.0453754991879043   | 78    | Glutamic acid                                                                                                                                                                                               |\n",
       "| 92 | -0.278645360468786 | 1.04395809714914e-06 | 4.15728839608141e-05 | 92    | Spermine                                                                                                                                                                                                    |\n",
       "| 100 | 0.411234269228269  | 5.73063457139175e-13 | 1.02022150178336e-10 | 100   | Spectral Match to 4-Imidazoleacrylic acid from NIST14                                                                                                                                                       |\n",
       "| 109 | 0.329290909308245  | 7.89371001079464e-09 | 4.97714861409792e-07 | 109   | Glutamine                                                                                                                                                                                                   |\n",
       "| 214 | 0.362485557423996  | 2.11929630666044e-10 | 2.13801675736928e-08 | 214   | OPHTHALMIC ACID                                                                                                                                                                                             |\n",
       "| 493 | 0.195753582031169  | 0.000602435188327556 | 0.00878684384324505  | 493   | \"NEPSILON,NEPSILON,NEPSILON-TRIMETHYLLYSINE\"                                                                                                                                                                |\n",
       "| 511 | 0.362864924831033  | 2.02958125083275e-10 | 2.08221276462553e-08 | 511   | Spectral Match to L-Histidine from METLIN                                                                                                                                                                   |\n",
       "| 830 | -0.232552220513772 | 4.59354330244864e-05 | 0.00114895527312899  | 830   | ReSpect:PT102580 Inosine-5'-monophosphate|IMP|5'-IMP|I-5'-P|5'-inosinate|Inosinic Acid|[(2R,3S,4R,5R)-3,4-dihydroxy-5-(6-oxo-3H-purin-9-yl)oxolan-2-yl]methyl dihydrogen phosphate                          |\n",
       "| 913 | 0.329861352079134  | 4.51827188962395e-08 | 2.27909164565781e-06 | 913   | Serine                                                                                                                                                                                                      |\n",
       "| 1093 | -0.360399036685291 | 2.68642574999149e-10 | 2.6433019862988e-08  | 1093  | Massbank:PR100308 N1-Acetylspermine|N'-Monoacetylspermine                                                                                                                                                   |\n",
       "| 2262 | 0.254093000346501  | 8.47989940719387e-06 | 0.000278961038650785 | 2262  | Spectral Match to Leu-Pro from NIST14                                                                                                                                                                       |\n",
       "| 2396 | -0.167838225713394 | 0.00332781894052032  | 0.032085712717394    | 2396  | phenylacetylglutamine                                                                                                                                                                                       |\n",
       "| 2602 | 0.275326919530975  | 1.46587116026365e-06 | 5.72446331166187e-05 | 2602  | Spectral Match to Phe-Phe from NIST14                                                                                                                                                                       |\n",
       "| 3082 | -0.186079713151721 | 0.00111026161248713  | 0.0145779035583181   | 3082  | glycocholic acid                                                                                                                                                                                            |\n",
       "| 3696 | 0.392076215172893  | 6.37517141195547e-12 | 9.18783632299202e-10 | 3696  | Spectral Match to Ile-Lys from NIST14                                                                                                                                                                       |\n",
       "| 3749 | 0.239436020665093  | 2.91075454202075e-05 | 0.000797230644472923 | 3749  | Spectral Match to His-Pro from NIST14                                                                                                                                                                       |\n",
       "| 4110 | 0.309997001754837  | 2.07906375760044e-07 | 9.53376736723897e-06 | 4110  | Spectral Match to PyroGlu-Val from NIST14                                                                                                                                                                   |\n",
       "| 4580 | -0.184645717229806 | 0.00122531394758684  | 0.0157136129761507   | 4580  | Glycocholic Acid                                                                                                                                                                                            |\n",
       "| 4931 | -0.230571139918755 | 5.33371002994792e-05 | 0.00130181237142237  | 4931  | Spectral Match to Glycocholic acid from NIST14                                                                                                                                                              |\n",
       "| 9473 | -0.167732954204037 | 0.00472996867214522  | 0.0414934788007174   | 9473  | Spectral Match to Adenosine, 5'-S-methyl-5'-thio- from NIST14                                                                                                                                               |\n",
       "| 9666 | 0.166907132464673  | 0.00392877143839818  | 0.0359770855017008   | 9666  | Spectral Match to L-Kynurenine from NIST14                                                                                                                                                                  |\n",
       "| 9812 | -0.253818646325267 | 8.7427031455807e-06  | 0.000282992417862032 | 9812  | glycocholic acid                                                                                                                                                                                            |\n",
       "| 9848 | -0.219866057122998 | 0.000118317507177831 | 0.00249418757173727  | 9848  | glycocholic acid                                                                                                                                                                                            |\n",
       "| 10001 | -0.207820746763713 | 0.00210648994582352  | 0.0231408051580214   | 10001 | Spectral Match to Penicillamine disulfide from NIST14                                                                                                                                                       |\n",
       "| 10635 | -0.22885778963542  | 8.48073653231726e-05 | 0.00187349993540571  | 10635 | taurohyodeoxycholic acid                                                                                                                                                                                    |\n",
       "| 10897 | -0.233797237380572 | 8.60967239290956e-05 | 0.00189506716342842  | 10897 | Spectral Match to D-(+)-Cellobiose from NIST14                                                                                                                                                              |\n",
       "| 11066 | -0.306729511190969 | 6.19347624067372e-07 | 2.60341053366653e-05 | 11066 | taurohyocholic acid                                                                                                                                                                                         |\n",
       "| 12284 | -0.215377046639085 | 0.000572593661745496 | 0.00839203252916583  | 12284 | taurohyocholic acid                                                                                                                                                                                         |\n",
       "| 13729 | -0.246675918161818 | 9.90722799050016e-05 | 0.00213658474623729  | 13729 | Spectral Match to Taurocholic acid from NIST14                                                                                                                                                              |\n",
       "| 14019 | 0.294066866697169  | 1.9702915500272e-06  | 7.45385922019664e-05 | 14019 | hyocholic acid                                                                                                                                                                                              |\n",
       "| 14969 | -0.310529866545879 | 6.28566954240036e-07 | 2.62394191311375e-05 | 14969 | Massbank:PR100340 1-Lauroyl-2-hydroxy-sn-glycero-3-phosphocholine|12:0 LysoPC|1-Dodecanoyllysolecithin|Phosphocholine,1-Lauroyl-2-Hydroxy-sn-Glycero-3-|\"Phosphocholine,1-Lauroyl-2-Hydroxy-sn-Glycero-3- \" |\n",
       "| 16983 | -0.259775589191818 | 6.54280427234493e-06 | 0.000223749120115841 | 16983 | taurohyodeoxycholic acid                                                                                                                                                                                    |\n",
       "| 17174 | -0.292123196240855 | 7.21783958938645e-06 | 0.000241378911793128 | 17174 | 3-UREIDOPROPIONATE                                                                                                                                                                                          |\n",
       "| 19209 | -0.206102855569002 | 0.00188967449003564  | 0.021419849603344    | 19209 | Spectral Match to D-Mannitol from NIST14                                                                                                                                                                    |\n",
       "| 24510 | -0.182935069502456 | 0.00318389782666875  | 0.0311278252594751   | 24510 | Spectral Match to Cholic acid from NIST14                                                                                                                                                                   |\n",
       "| 46209 | -0.202963647328544 | 0.0033606558844275   | 0.0321650593330702   | 46209 | Spectral Match to Cefuroxime from NIST14                                                                                                                                                                    |\n",
       "| 63633 | -0.204200142647808 | 0.0026481962348689   | 0.0274949087644279   | 63633 | Uridine                                                                                                                                                                                                     |\n",
       "\n"
      ],
      "text/plain": [
       "      estimate.cor       p.value              p.value.corrected    cluster id\n",
       "33    -0.159334310955602 0.00523380135717488  0.0444322575245155   33        \n",
       "36    0.346741810031954  1.22808311277163e-09 1.00453879481171e-07 36        \n",
       "65    -0.205996502021172 0.000306174115258615 0.00531023472682063  65        \n",
       "78    0.158765259845047  0.00539738301921214  0.0453754991879043   78        \n",
       "92    -0.278645360468786 1.04395809714914e-06 4.15728839608141e-05 92        \n",
       "100   0.411234269228269  5.73063457139175e-13 1.02022150178336e-10 100       \n",
       "109   0.329290909308245  7.89371001079464e-09 4.97714861409792e-07 109       \n",
       "214   0.362485557423996  2.11929630666044e-10 2.13801675736928e-08 214       \n",
       "493   0.195753582031169  0.000602435188327556 0.00878684384324505  493       \n",
       "511   0.362864924831033  2.02958125083275e-10 2.08221276462553e-08 511       \n",
       "830   -0.232552220513772 4.59354330244864e-05 0.00114895527312899  830       \n",
       "913   0.329861352079134  4.51827188962395e-08 2.27909164565781e-06 913       \n",
       "1093  -0.360399036685291 2.68642574999149e-10 2.6433019862988e-08  1093      \n",
       "2262  0.254093000346501  8.47989940719387e-06 0.000278961038650785 2262      \n",
       "2396  -0.167838225713394 0.00332781894052032  0.032085712717394    2396      \n",
       "2602  0.275326919530975  1.46587116026365e-06 5.72446331166187e-05 2602      \n",
       "3082  -0.186079713151721 0.00111026161248713  0.0145779035583181   3082      \n",
       "3696  0.392076215172893  6.37517141195547e-12 9.18783632299202e-10 3696      \n",
       "3749  0.239436020665093  2.91075454202075e-05 0.000797230644472923 3749      \n",
       "4110  0.309997001754837  2.07906375760044e-07 9.53376736723897e-06 4110      \n",
       "4580  -0.184645717229806 0.00122531394758684  0.0157136129761507   4580      \n",
       "4931  -0.230571139918755 5.33371002994792e-05 0.00130181237142237  4931      \n",
       "9473  -0.167732954204037 0.00472996867214522  0.0414934788007174   9473      \n",
       "9666  0.166907132464673  0.00392877143839818  0.0359770855017008   9666      \n",
       "9812  -0.253818646325267 8.7427031455807e-06  0.000282992417862032 9812      \n",
       "9848  -0.219866057122998 0.000118317507177831 0.00249418757173727  9848      \n",
       "10001 -0.207820746763713 0.00210648994582352  0.0231408051580214   10001     \n",
       "10635 -0.22885778963542  8.48073653231726e-05 0.00187349993540571  10635     \n",
       "10897 -0.233797237380572 8.60967239290956e-05 0.00189506716342842  10897     \n",
       "11066 -0.306729511190969 6.19347624067372e-07 2.60341053366653e-05 11066     \n",
       "12284 -0.215377046639085 0.000572593661745496 0.00839203252916583  12284     \n",
       "13729 -0.246675918161818 9.90722799050016e-05 0.00213658474623729  13729     \n",
       "14019 0.294066866697169  1.9702915500272e-06  7.45385922019664e-05 14019     \n",
       "14969 -0.310529866545879 6.28566954240036e-07 2.62394191311375e-05 14969     \n",
       "16983 -0.259775589191818 6.54280427234493e-06 0.000223749120115841 16983     \n",
       "17174 -0.292123196240855 7.21783958938645e-06 0.000241378911793128 17174     \n",
       "19209 -0.206102855569002 0.00188967449003564  0.021419849603344    19209     \n",
       "24510 -0.182935069502456 0.00318389782666875  0.0311278252594751   24510     \n",
       "46209 -0.202963647328544 0.0033606558844275   0.0321650593330702   46209     \n",
       "63633 -0.204200142647808 0.0026481962348689   0.0274949087644279   63633     \n",
       "                                                                                                                                                                                                                 \n",
       "33    Massbank:PB000483 Spermidine|N-(3-aminopropyl)butane-1,4-diamine                                                                                                                                           \n",
       "36    Spectral Match to Betaine from NIST14                                                                                                                                                                      \n",
       "65    Massbank:EA030311 Caffeine|1,3,7-trimethyl-3,7-dihydro-1H-purine-2,6-dione|1,3,7-trimethylpurine-2,6-dione                                                                                                 \n",
       "78    Glutamic acid                                                                                                                                                                                              \n",
       "92    Spermine                                                                                                                                                                                                   \n",
       "100   Spectral Match to 4-Imidazoleacrylic acid from NIST14                                                                                                                                                      \n",
       "109   Glutamine                                                                                                                                                                                                  \n",
       "214   OPHTHALMIC ACID                                                                                                                                                                                            \n",
       "493   \"NEPSILON,NEPSILON,NEPSILON-TRIMETHYLLYSINE\"                                                                                                                                                               \n",
       "511   Spectral Match to L-Histidine from METLIN                                                                                                                                                                  \n",
       "830   ReSpect:PT102580 Inosine-5'-monophosphate|IMP|5'-IMP|I-5'-P|5'-inosinate|Inosinic Acid|[(2R,3S,4R,5R)-3,4-dihydroxy-5-(6-oxo-3H-purin-9-yl)oxolan-2-yl]methyl dihydrogen phosphate                         \n",
       "913   Serine                                                                                                                                                                                                     \n",
       "1093  Massbank:PR100308 N1-Acetylspermine|N'-Monoacetylspermine                                                                                                                                                  \n",
       "2262  Spectral Match to Leu-Pro from NIST14                                                                                                                                                                      \n",
       "2396  phenylacetylglutamine                                                                                                                                                                                      \n",
       "2602  Spectral Match to Phe-Phe from NIST14                                                                                                                                                                      \n",
       "3082  glycocholic acid                                                                                                                                                                                           \n",
       "3696  Spectral Match to Ile-Lys from NIST14                                                                                                                                                                      \n",
       "3749  Spectral Match to His-Pro from NIST14                                                                                                                                                                      \n",
       "4110  Spectral Match to PyroGlu-Val from NIST14                                                                                                                                                                  \n",
       "4580  Glycocholic Acid                                                                                                                                                                                           \n",
       "4931  Spectral Match to Glycocholic acid from NIST14                                                                                                                                                             \n",
       "9473  Spectral Match to Adenosine, 5'-S-methyl-5'-thio- from NIST14                                                                                                                                              \n",
       "9666  Spectral Match to L-Kynurenine from NIST14                                                                                                                                                                 \n",
       "9812  glycocholic acid                                                                                                                                                                                           \n",
       "9848  glycocholic acid                                                                                                                                                                                           \n",
       "10001 Spectral Match to Penicillamine disulfide from NIST14                                                                                                                                                      \n",
       "10635 taurohyodeoxycholic acid                                                                                                                                                                                   \n",
       "10897 Spectral Match to D-(+)-Cellobiose from NIST14                                                                                                                                                             \n",
       "11066 taurohyocholic acid                                                                                                                                                                                        \n",
       "12284 taurohyocholic acid                                                                                                                                                                                        \n",
       "13729 Spectral Match to Taurocholic acid from NIST14                                                                                                                                                             \n",
       "14019 hyocholic acid                                                                                                                                                                                             \n",
       "14969 Massbank:PR100340 1-Lauroyl-2-hydroxy-sn-glycero-3-phosphocholine|12:0 LysoPC|1-Dodecanoyllysolecithin|Phosphocholine,1-Lauroyl-2-Hydroxy-sn-Glycero-3-|\"Phosphocholine,1-Lauroyl-2-Hydroxy-sn-Glycero-3- \"\n",
       "16983 taurohyodeoxycholic acid                                                                                                                                                                                   \n",
       "17174 3-UREIDOPROPIONATE                                                                                                                                                                                         \n",
       "19209 Spectral Match to D-Mannitol from NIST14                                                                                                                                                                   \n",
       "24510 Spectral Match to Cholic acid from NIST14                                                                                                                                                                  \n",
       "46209 Spectral Match to Cefuroxime from NIST14                                                                                                                                                                   \n",
       "63633 Uridine                                                                                                                                                                                                    "
      ]
     },
     "metadata": {},
     "output_type": "display_data"
    },
    {
     "data": {
      "text/html": [
       "<ol class=list-inline>\n",
       "\t<li>40</li>\n",
       "\t<li>5</li>\n",
       "</ol>\n"
      ],
      "text/latex": [
       "\\begin{enumerate*}\n",
       "\\item 40\n",
       "\\item 5\n",
       "\\end{enumerate*}\n"
      ],
      "text/markdown": [
       "1. 40\n",
       "2. 5\n",
       "\n",
       "\n"
      ],
      "text/plain": [
       "[1] 40  5"
      ]
     },
     "metadata": {},
     "output_type": "display_data"
    }
   ],
   "source": [
    "sigs[which(sigs[,5]!= 'NA'),]\n",
    "dim(sigs[which(sigs[,5]!= 'NA'),])"
   ]
  },
  {
   "cell_type": "markdown",
   "metadata": {},
   "source": [
    "### Visualize results as box plots"
   ]
  },
  {
   "cell_type": "markdown",
   "metadata": {},
   "source": [
    "plot a single feature"
   ]
  },
  {
   "cell_type": "code",
   "execution_count": 29,
   "metadata": {},
   "outputs": [],
   "source": [
    "ftplot <- ftt"
   ]
  },
  {
   "cell_type": "code",
   "execution_count": 30,
   "metadata": {},
   "outputs": [],
   "source": [
    "selid <- '92'"
   ]
  },
  {
   "cell_type": "code",
   "execution_count": 31,
   "metadata": {},
   "outputs": [
    {
     "data": {
      "text/html": [
       "<dl class=dl-horizontal>\n",
       "\t<dt>estimate.cor</dt>\n",
       "\t\t<dd>'-0.278645360468786'</dd>\n",
       "\t<dt>p.value</dt>\n",
       "\t\t<dd>'1.04395809714914e-06'</dd>\n",
       "\t<dt>p.value.corrected</dt>\n",
       "\t\t<dd>'4.15728839608141e-05'</dd>\n",
       "\t<dt>cluster id</dt>\n",
       "\t\t<dd>'92'</dd>\n",
       "</dl>\n"
      ],
      "text/latex": [
       "\\begin{description*}\n",
       "\\item[estimate.cor] '-0.278645360468786'\n",
       "\\item[p.value] '1.04395809714914e-06'\n",
       "\\item[p.value.corrected] '4.15728839608141e-05'\n",
       "\\item[cluster id] '92'\n",
       "\\end{description*}\n"
      ],
      "text/markdown": [
       "estimate.cor\n",
       ":   '-0.278645360468786'p.value\n",
       ":   '1.04395809714914e-06'p.value.corrected\n",
       ":   '4.15728839608141e-05'cluster id\n",
       ":   '92'\n",
       "\n"
      ],
      "text/plain": [
       "          estimate.cor                p.value      p.value.corrected \n",
       "  \"-0.278645360468786\" \"1.04395809714914e-06\" \"4.15728839608141e-05\" \n",
       "            cluster id \n",
       "                  \"92\" "
      ]
     },
     "metadata": {},
     "output_type": "display_data"
    }
   ],
   "source": [
    "corres[corres[,4] == as.numeric(selid),]"
   ]
  },
  {
   "cell_type": "code",
   "execution_count": 32,
   "metadata": {},
   "outputs": [
    {
     "data": {
      "image/png": "[encoded data removed]",
      "text/plain": [
       "Plot with title “92”"
      ]
     },
     "metadata": {
      "image/png": {
       "height": 420,
       "width": 420
      },
      "text/plain": {
       "height": 420,
       "width": 420
      }
     },
     "output_type": "display_data"
    }
   ],
   "source": [
    "comp <- ftplot[,which(colnames(ftplot) == selid)]\n",
    "    \n",
    "df <- cbind(as.character(md$ATTRIBUTE_Gestationsalder[match(rownames(ftplot),md$filename)]),comp)\n",
    "colnames(df) <- c('GestationalAge','Peak_area')\n",
    "df <- as.data.frame(df)\n",
    "df$GestationalAge <- as.numeric(as.character(df$GestationalAge))\n",
    "df$Peak_area <- as.numeric(as.character(df$Peak_area))\n",
    "    \n",
    "boxplot(Peak_area ~ GestationalAge, data = df, outline = FALSE, main = selid)\n",
    "beeswarm(Peak_area ~ GestationalAge, data = df, col = 2, pch = 16, add = TRUE)"
   ]
  },
  {
   "cell_type": "markdown",
   "metadata": {},
   "source": [
    "plot all features with spectral library hit"
   ]
  },
  {
   "cell_type": "code",
   "execution_count": 33,
   "metadata": {},
   "outputs": [],
   "source": [
    "selids <- colnames(ft[, which(colnames(ft) %in% rownames(sigs)[which(sigs[,5]!= 'NA')])])"
   ]
  },
  {
   "cell_type": "code",
   "execution_count": 34,
   "metadata": {},
   "outputs": [
    {
     "data": {
      "text/html": [
       "<ol class=list-inline>\n",
       "\t<li>'33'</li>\n",
       "\t<li>'36'</li>\n",
       "\t<li>'65'</li>\n",
       "\t<li>'78'</li>\n",
       "\t<li>'92'</li>\n",
       "\t<li>'100'</li>\n",
       "\t<li>'109'</li>\n",
       "\t<li>'214'</li>\n",
       "\t<li>'493'</li>\n",
       "\t<li>'511'</li>\n",
       "\t<li>'830'</li>\n",
       "\t<li>'913'</li>\n",
       "\t<li>'1093'</li>\n",
       "\t<li>'2262'</li>\n",
       "\t<li>'2396'</li>\n",
       "\t<li>'2602'</li>\n",
       "\t<li>'3082'</li>\n",
       "\t<li>'3696'</li>\n",
       "\t<li>'3749'</li>\n",
       "\t<li>'4110'</li>\n",
       "\t<li>'4580'</li>\n",
       "\t<li>'4931'</li>\n",
       "\t<li>'9473'</li>\n",
       "\t<li>'9666'</li>\n",
       "\t<li>'9812'</li>\n",
       "\t<li>'9848'</li>\n",
       "\t<li>'10001'</li>\n",
       "\t<li>'10635'</li>\n",
       "\t<li>'10897'</li>\n",
       "\t<li>'11066'</li>\n",
       "\t<li>'12284'</li>\n",
       "\t<li>'13729'</li>\n",
       "\t<li>'14019'</li>\n",
       "\t<li>'14969'</li>\n",
       "\t<li>'16983'</li>\n",
       "\t<li>'17174'</li>\n",
       "\t<li>'19209'</li>\n",
       "\t<li>'24510'</li>\n",
       "\t<li>'46209'</li>\n",
       "\t<li>'63633'</li>\n",
       "</ol>\n"
      ],
      "text/latex": [
       "\\begin{enumerate*}\n",
       "\\item '33'\n",
       "\\item '36'\n",
       "\\item '65'\n",
       "\\item '78'\n",
       "\\item '92'\n",
       "\\item '100'\n",
       "\\item '109'\n",
       "\\item '214'\n",
       "\\item '493'\n",
       "\\item '511'\n",
       "\\item '830'\n",
       "\\item '913'\n",
       "\\item '1093'\n",
       "\\item '2262'\n",
       "\\item '2396'\n",
       "\\item '2602'\n",
       "\\item '3082'\n",
       "\\item '3696'\n",
       "\\item '3749'\n",
       "\\item '4110'\n",
       "\\item '4580'\n",
       "\\item '4931'\n",
       "\\item '9473'\n",
       "\\item '9666'\n",
       "\\item '9812'\n",
       "\\item '9848'\n",
       "\\item '10001'\n",
       "\\item '10635'\n",
       "\\item '10897'\n",
       "\\item '11066'\n",
       "\\item '12284'\n",
       "\\item '13729'\n",
       "\\item '14019'\n",
       "\\item '14969'\n",
       "\\item '16983'\n",
       "\\item '17174'\n",
       "\\item '19209'\n",
       "\\item '24510'\n",
       "\\item '46209'\n",
       "\\item '63633'\n",
       "\\end{enumerate*}\n"
      ],
      "text/markdown": [
       "1. '33'\n",
       "2. '36'\n",
       "3. '65'\n",
       "4. '78'\n",
       "5. '92'\n",
       "6. '100'\n",
       "7. '109'\n",
       "8. '214'\n",
       "9. '493'\n",
       "10. '511'\n",
       "11. '830'\n",
       "12. '913'\n",
       "13. '1093'\n",
       "14. '2262'\n",
       "15. '2396'\n",
       "16. '2602'\n",
       "17. '3082'\n",
       "18. '3696'\n",
       "19. '3749'\n",
       "20. '4110'\n",
       "21. '4580'\n",
       "22. '4931'\n",
       "23. '9473'\n",
       "24. '9666'\n",
       "25. '9812'\n",
       "26. '9848'\n",
       "27. '10001'\n",
       "28. '10635'\n",
       "29. '10897'\n",
       "30. '11066'\n",
       "31. '12284'\n",
       "32. '13729'\n",
       "33. '14019'\n",
       "34. '14969'\n",
       "35. '16983'\n",
       "36. '17174'\n",
       "37. '19209'\n",
       "38. '24510'\n",
       "39. '46209'\n",
       "40. '63633'\n",
       "\n",
       "\n"
      ],
      "text/plain": [
       " [1] \"33\"    \"36\"    \"65\"    \"78\"    \"92\"    \"100\"   \"109\"   \"214\"   \"493\"  \n",
       "[10] \"511\"   \"830\"   \"913\"   \"1093\"  \"2262\"  \"2396\"  \"2602\"  \"3082\"  \"3696\" \n",
       "[19] \"3749\"  \"4110\"  \"4580\"  \"4931\"  \"9473\"  \"9666\"  \"9812\"  \"9848\"  \"10001\"\n",
       "[28] \"10635\" \"10897\" \"11066\" \"12284\" \"13729\" \"14019\" \"14969\" \"16983\" \"17174\"\n",
       "[37] \"19209\" \"24510\" \"46209\" \"63633\""
      ]
     },
     "metadata": {},
     "output_type": "display_data"
    },
    {
     "data": {
      "text/html": [
       "40"
      ],
      "text/latex": [
       "40"
      ],
      "text/markdown": [
       "40"
      ],
      "text/plain": [
       "[1] 40"
      ]
     },
     "metadata": {},
     "output_type": "display_data"
    }
   ],
   "source": [
    "selids\n",
    "length(selids)"
   ]
  },
  {
   "cell_type": "code",
   "execution_count": 35,
   "metadata": {},
   "outputs": [
    {
     "data": {
      "text/html": [
       "<strong>pdf:</strong> 2"
      ],
      "text/latex": [
       "\\textbf{pdf:} 2"
      ],
      "text/markdown": [
       "**pdf:** 2"
      ],
      "text/plain": [
       "pdf \n",
       "  2 "
      ]
     },
     "metadata": {},
     "output_type": "display_data"
    }
   ],
   "source": [
    "pdf(\"GA_KendallsTau_40Annotated_SupplementaryData1.pdf\", height = 20, width = 20)\n",
    "par(mfrow = c(5,5))\n",
    "for (i in 1:length(selids)){\n",
    "    selid <- selids[i]\n",
    "    comp <- ftplot[,which(colnames(ftplot) == selid)]\n",
    "    df <- cbind(as.character(md$ATTRIBUTE_Gestationsalder[match(rownames(ftplot),md$filename)]),comp)\n",
    "    colnames(df) <- c('GestationalAge','Peak_area')\n",
    "    df <- as.data.frame(df)\n",
    "    df$GestationalAge <- as.numeric(as.character(df$GestationalAge))\n",
    "    df$Peak_area <- as.numeric(as.character(df$Peak_area))\n",
    "\n",
    "    boxplot(Peak_area ~ GestationalAge, data = df, outline = FALSE, main = selid)\n",
    "    beeswarm(Peak_area ~ GestationalAge, data = df, col = 4, pch = 16, add = TRUE)\n",
    "}\n",
    "dev.off()"
   ]
  }
 ],
 "metadata": {
  "kernelspec": {
   "display_name": "R",
   "language": "R",
   "name": "ir"
  },
  "language_info": {
   "codemirror_mode": "r",
   "file_extension": ".r",
   "mimetype": "text/x-r-source",
   "name": "R",
   "pygments_lexer": "r",
   "version": "3.6.1"
  }
 },
 "nbformat": 4,
 "nbformat_minor": 2
}
