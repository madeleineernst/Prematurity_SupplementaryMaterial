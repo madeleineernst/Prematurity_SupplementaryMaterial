{
 "cells": [
  {
   "cell_type": "markdown",
   "metadata": {},
   "source": [
    "# Venn diagram"
   ]
  },
  {
   "cell_type": "markdown",
   "metadata": {},
   "source": [
    "create Venn diagram showing overlapping mass spectral features selected through hypergeometric testing, univariate correlation analysis and LASSO regression"
   ]
  },
  {
   "cell_type": "markdown",
   "metadata": {},
   "source": [
    "load libraries"
   ]
  },
  {
   "cell_type": "code",
   "execution_count": 14,
   "metadata": {},
   "outputs": [],
   "source": [
    "import matplotlib.pyplot as plt\n",
    "import matplotlib_venn as venn\n",
    "import pandas as pd"
   ]
  },
  {
   "cell_type": "markdown",
   "metadata": {},
   "source": [
    "load univariate results"
   ]
  },
  {
   "cell_type": "code",
   "execution_count": 3,
   "metadata": {},
   "outputs": [],
   "source": [
    "uc = pd.read_csv('../CorrelationAnalysis/KendallsTauCorrelation_GA.txt', sep = '\\t')"
   ]
  },
  {
   "cell_type": "code",
   "execution_count": 4,
   "metadata": {},
   "outputs": [
    {
     "data": {
      "text/html": [
       "<div>\n",
       "<style scoped>\n",
       "    .dataframe tbody tr th:only-of-type {\n",
       "        vertical-align: middle;\n",
       "    }\n",
       "\n",
       "    .dataframe tbody tr th {\n",
       "        vertical-align: top;\n",
       "    }\n",
       "\n",
       "    .dataframe thead th {\n",
       "        text-align: right;\n",
       "    }\n",
       "</style>\n",
       "<table border=\"1\" class=\"dataframe\">\n",
       "  <thead>\n",
       "    <tr style=\"text-align: right;\">\n",
       "      <th></th>\n",
       "      <th>estimate.cor</th>\n",
       "      <th>p.value</th>\n",
       "      <th>p.value.corrected</th>\n",
       "      <th>cluster id</th>\n",
       "    </tr>\n",
       "  </thead>\n",
       "  <tbody>\n",
       "    <tr>\n",
       "      <th>0</th>\n",
       "      <td>0.148333</td>\n",
       "      <td>0.009337</td>\n",
       "      <td>0.066176</td>\n",
       "      <td>1</td>\n",
       "    </tr>\n",
       "    <tr>\n",
       "      <th>1</th>\n",
       "      <td>0.138469</td>\n",
       "      <td>0.015240</td>\n",
       "      <td>0.092898</td>\n",
       "      <td>2</td>\n",
       "    </tr>\n",
       "    <tr>\n",
       "      <th>2</th>\n",
       "      <td>0.136383</td>\n",
       "      <td>0.016846</td>\n",
       "      <td>0.098614</td>\n",
       "      <td>3</td>\n",
       "    </tr>\n",
       "    <tr>\n",
       "      <th>3</th>\n",
       "      <td>0.130313</td>\n",
       "      <td>0.022390</td>\n",
       "      <td>0.117884</td>\n",
       "      <td>4</td>\n",
       "    </tr>\n",
       "    <tr>\n",
       "      <th>4</th>\n",
       "      <td>0.042299</td>\n",
       "      <td>0.458521</td>\n",
       "      <td>0.692645</td>\n",
       "      <td>5</td>\n",
       "    </tr>\n",
       "    <tr>\n",
       "      <th>5</th>\n",
       "      <td>0.047421</td>\n",
       "      <td>0.405953</td>\n",
       "      <td>0.651595</td>\n",
       "      <td>6</td>\n",
       "    </tr>\n",
       "  </tbody>\n",
       "</table>\n",
       "</div>"
      ],
      "text/plain": [
       "   estimate.cor   p.value  p.value.corrected  cluster id\n",
       "0      0.148333  0.009337           0.066176           1\n",
       "1      0.138469  0.015240           0.092898           2\n",
       "2      0.136383  0.016846           0.098614           3\n",
       "3      0.130313  0.022390           0.117884           4\n",
       "4      0.042299  0.458521           0.692645           5\n",
       "5      0.047421  0.405953           0.651595           6"
      ]
     },
     "execution_count": 4,
     "metadata": {},
     "output_type": "execute_result"
    }
   ],
   "source": [
    "uc.head(6)"
   ]
  },
  {
   "cell_type": "markdown",
   "metadata": {},
   "source": [
    "load LASSO regression results"
   ]
  },
  {
   "cell_type": "code",
   "execution_count": 5,
   "metadata": {},
   "outputs": [],
   "source": [
    "lr = pd.read_csv('../LASSO/LASSO_coefs.csv', sep = ',')"
   ]
  },
  {
   "cell_type": "code",
   "execution_count": 6,
   "metadata": {},
   "outputs": [
    {
     "data": {
      "text/html": [
       "<div>\n",
       "<style scoped>\n",
       "    .dataframe tbody tr th:only-of-type {\n",
       "        vertical-align: middle;\n",
       "    }\n",
       "\n",
       "    .dataframe tbody tr th {\n",
       "        vertical-align: top;\n",
       "    }\n",
       "\n",
       "    .dataframe thead th {\n",
       "        text-align: right;\n",
       "    }\n",
       "</style>\n",
       "<table border=\"1\" class=\"dataframe\">\n",
       "  <thead>\n",
       "    <tr style=\"text-align: right;\">\n",
       "      <th></th>\n",
       "      <th>row ID</th>\n",
       "      <th>Model0_LASSO</th>\n",
       "      <th>Model1_LASSO</th>\n",
       "      <th>Model2_LASSO</th>\n",
       "      <th>Model3_LASSO</th>\n",
       "      <th>Model4_LASSO</th>\n",
       "      <th>Model5_LASSO</th>\n",
       "      <th>Model6_LASSO</th>\n",
       "      <th>Model7_LASSO</th>\n",
       "      <th>Model8_LASSO</th>\n",
       "      <th>Model9_LASSO</th>\n",
       "      <th>mean_LASSO</th>\n",
       "      <th>std_dev_LASSO</th>\n",
       "      <th>zeroes_LASSO</th>\n",
       "    </tr>\n",
       "  </thead>\n",
       "  <tbody>\n",
       "    <tr>\n",
       "      <th>0</th>\n",
       "      <td>33.0</td>\n",
       "      <td>-0.000000</td>\n",
       "      <td>-0.000000</td>\n",
       "      <td>-0.000000</td>\n",
       "      <td>-0.000000</td>\n",
       "      <td>-0.000000</td>\n",
       "      <td>-0.000000</td>\n",
       "      <td>-0.000000</td>\n",
       "      <td>-0.000000</td>\n",
       "      <td>-0.000000</td>\n",
       "      <td>-0.007823</td>\n",
       "      <td>0.950834</td>\n",
       "      <td>2.417834</td>\n",
       "      <td>9</td>\n",
       "    </tr>\n",
       "    <tr>\n",
       "      <th>1</th>\n",
       "      <td>57.0</td>\n",
       "      <td>-0.128489</td>\n",
       "      <td>-0.469545</td>\n",
       "      <td>-0.440863</td>\n",
       "      <td>-0.638038</td>\n",
       "      <td>-0.749952</td>\n",
       "      <td>-0.391667</td>\n",
       "      <td>-0.479605</td>\n",
       "      <td>-0.283974</td>\n",
       "      <td>-0.630893</td>\n",
       "      <td>-0.134860</td>\n",
       "      <td>-0.258590</td>\n",
       "      <td>0.447892</td>\n",
       "      <td>0</td>\n",
       "    </tr>\n",
       "    <tr>\n",
       "      <th>2</th>\n",
       "      <td>106.0</td>\n",
       "      <td>-0.000000</td>\n",
       "      <td>-0.010783</td>\n",
       "      <td>-0.000000</td>\n",
       "      <td>-0.000000</td>\n",
       "      <td>-0.000000</td>\n",
       "      <td>-0.000000</td>\n",
       "      <td>-0.000000</td>\n",
       "      <td>-0.034884</td>\n",
       "      <td>-0.000000</td>\n",
       "      <td>-0.000000</td>\n",
       "      <td>0.842063</td>\n",
       "      <td>2.150435</td>\n",
       "      <td>8</td>\n",
       "    </tr>\n",
       "    <tr>\n",
       "      <th>3</th>\n",
       "      <td>200.0</td>\n",
       "      <td>-0.000000</td>\n",
       "      <td>-0.000000</td>\n",
       "      <td>-0.000000</td>\n",
       "      <td>-0.000000</td>\n",
       "      <td>-0.000000</td>\n",
       "      <td>-0.000000</td>\n",
       "      <td>-0.000000</td>\n",
       "      <td>-0.000000</td>\n",
       "      <td>-0.000000</td>\n",
       "      <td>-0.011857</td>\n",
       "      <td>0.950508</td>\n",
       "      <td>2.417963</td>\n",
       "      <td>9</td>\n",
       "    </tr>\n",
       "    <tr>\n",
       "      <th>4</th>\n",
       "      <td>214.0</td>\n",
       "      <td>0.029489</td>\n",
       "      <td>0.193793</td>\n",
       "      <td>0.000000</td>\n",
       "      <td>0.000000</td>\n",
       "      <td>0.000000</td>\n",
       "      <td>0.000000</td>\n",
       "      <td>0.000000</td>\n",
       "      <td>0.000000</td>\n",
       "      <td>0.000000</td>\n",
       "      <td>0.000000</td>\n",
       "      <td>0.863815</td>\n",
       "      <td>2.142512</td>\n",
       "      <td>8</td>\n",
       "    </tr>\n",
       "    <tr>\n",
       "      <th>5</th>\n",
       "      <td>328.0</td>\n",
       "      <td>-0.058610</td>\n",
       "      <td>-0.028353</td>\n",
       "      <td>-0.019272</td>\n",
       "      <td>-0.056129</td>\n",
       "      <td>-0.000000</td>\n",
       "      <td>-0.000000</td>\n",
       "      <td>-0.072039</td>\n",
       "      <td>-0.000000</td>\n",
       "      <td>-0.000000</td>\n",
       "      <td>-0.105945</td>\n",
       "      <td>0.395454</td>\n",
       "      <td>1.085801</td>\n",
       "      <td>4</td>\n",
       "    </tr>\n",
       "  </tbody>\n",
       "</table>\n",
       "</div>"
      ],
      "text/plain": [
       "   row ID  Model0_LASSO  Model1_LASSO  Model2_LASSO  Model3_LASSO  \\\n",
       "0    33.0     -0.000000     -0.000000     -0.000000     -0.000000   \n",
       "1    57.0     -0.128489     -0.469545     -0.440863     -0.638038   \n",
       "2   106.0     -0.000000     -0.010783     -0.000000     -0.000000   \n",
       "3   200.0     -0.000000     -0.000000     -0.000000     -0.000000   \n",
       "4   214.0      0.029489      0.193793      0.000000      0.000000   \n",
       "5   328.0     -0.058610     -0.028353     -0.019272     -0.056129   \n",
       "\n",
       "   Model4_LASSO  Model5_LASSO  Model6_LASSO  Model7_LASSO  Model8_LASSO  \\\n",
       "0     -0.000000     -0.000000     -0.000000     -0.000000     -0.000000   \n",
       "1     -0.749952     -0.391667     -0.479605     -0.283974     -0.630893   \n",
       "2     -0.000000     -0.000000     -0.000000     -0.034884     -0.000000   \n",
       "3     -0.000000     -0.000000     -0.000000     -0.000000     -0.000000   \n",
       "4      0.000000      0.000000      0.000000      0.000000      0.000000   \n",
       "5     -0.000000     -0.000000     -0.072039     -0.000000     -0.000000   \n",
       "\n",
       "   Model9_LASSO  mean_LASSO  std_dev_LASSO  zeroes_LASSO  \n",
       "0     -0.007823    0.950834       2.417834             9  \n",
       "1     -0.134860   -0.258590       0.447892             0  \n",
       "2     -0.000000    0.842063       2.150435             8  \n",
       "3     -0.011857    0.950508       2.417963             9  \n",
       "4      0.000000    0.863815       2.142512             8  \n",
       "5     -0.105945    0.395454       1.085801             4  "
      ]
     },
     "execution_count": 6,
     "metadata": {},
     "output_type": "execute_result"
    }
   ],
   "source": [
    "lr.head(6)"
   ]
  },
  {
   "cell_type": "markdown",
   "metadata": {},
   "source": [
    "load hypergeometric testing results"
   ]
  },
  {
   "cell_type": "code",
   "execution_count": 7,
   "metadata": {},
   "outputs": [],
   "source": [
    "hg = pd.read_csv('../HyperGeometricTesting/SignificantFamilies_001.tsv', sep = '\\t')"
   ]
  },
  {
   "cell_type": "code",
   "execution_count": 8,
   "metadata": {},
   "outputs": [
    {
     "data": {
      "text/html": [
       "<div>\n",
       "<style scoped>\n",
       "    .dataframe tbody tr th:only-of-type {\n",
       "        vertical-align: middle;\n",
       "    }\n",
       "\n",
       "    .dataframe tbody tr th {\n",
       "        vertical-align: top;\n",
       "    }\n",
       "\n",
       "    .dataframe thead th {\n",
       "        text-align: right;\n",
       "    }\n",
       "</style>\n",
       "<table border=\"1\" class=\"dataframe\">\n",
       "  <thead>\n",
       "    <tr style=\"text-align: right;\">\n",
       "      <th></th>\n",
       "      <th>componentindex_HG_001</th>\n",
       "      <th>clusterindex_HG_001</th>\n",
       "    </tr>\n",
       "  </thead>\n",
       "  <tbody>\n",
       "    <tr>\n",
       "      <th>0</th>\n",
       "      <td>223</td>\n",
       "      <td>23219</td>\n",
       "    </tr>\n",
       "    <tr>\n",
       "      <th>1</th>\n",
       "      <td>223</td>\n",
       "      <td>24727</td>\n",
       "    </tr>\n",
       "    <tr>\n",
       "      <th>2</th>\n",
       "      <td>223</td>\n",
       "      <td>23153</td>\n",
       "    </tr>\n",
       "    <tr>\n",
       "      <th>3</th>\n",
       "      <td>223</td>\n",
       "      <td>22556</td>\n",
       "    </tr>\n",
       "    <tr>\n",
       "      <th>4</th>\n",
       "      <td>223</td>\n",
       "      <td>29807</td>\n",
       "    </tr>\n",
       "  </tbody>\n",
       "</table>\n",
       "</div>"
      ],
      "text/plain": [
       "   componentindex_HG_001  clusterindex_HG_001\n",
       "0                    223                23219\n",
       "1                    223                24727\n",
       "2                    223                23153\n",
       "3                    223                22556\n",
       "4                    223                29807"
      ]
     },
     "execution_count": 8,
     "metadata": {},
     "output_type": "execute_result"
    }
   ],
   "source": [
    "hg.head()"
   ]
  },
  {
   "cell_type": "code",
   "execution_count": 9,
   "metadata": {},
   "outputs": [],
   "source": [
    "ucsig = set(uc[uc['p.value.corrected'] < 0.05]['cluster id'])"
   ]
  },
  {
   "cell_type": "code",
   "execution_count": 10,
   "metadata": {},
   "outputs": [
    {
     "data": {
      "text/plain": [
       "744"
      ]
     },
     "execution_count": 10,
     "metadata": {},
     "output_type": "execute_result"
    }
   ],
   "source": [
    "len(ucsig)"
   ]
  },
  {
   "cell_type": "code",
   "execution_count": 11,
   "metadata": {},
   "outputs": [],
   "source": [
    "hgsig = set(hg['clusterindex_HG_001'])"
   ]
  },
  {
   "cell_type": "code",
   "execution_count": 12,
   "metadata": {},
   "outputs": [
    {
     "data": {
      "text/plain": [
       "230"
      ]
     },
     "execution_count": 12,
     "metadata": {},
     "output_type": "execute_result"
    }
   ],
   "source": [
    "len(hgsig)"
   ]
  },
  {
   "cell_type": "code",
   "execution_count": 13,
   "metadata": {},
   "outputs": [],
   "source": [
    "lassosig = set(lr['row ID'].astype('int'))"
   ]
  },
  {
   "cell_type": "code",
   "execution_count": 15,
   "metadata": {},
   "outputs": [
    {
     "data": {
      "image/png": "[encoded data removed]",
      "text/plain": [
       "<Figure size 432x288 with 1 Axes>"
      ]
     },
     "metadata": {},
     "output_type": "display_data"
    }
   ],
   "source": [
    "f = plt.figure()\n",
    "s = {1,2,3,4}\n",
    "t = {3,5,4,8}\n",
    "venn.venn3([ucsig,hgsig,lassosig],set_labels=('Individual metabolites','Molecular families','LASSO regression'))\n",
    "plt.show()"
   ]
  },
  {
   "cell_type": "code",
   "execution_count": 16,
   "metadata": {},
   "outputs": [],
   "source": [
    "f.savefig(\"VennDiagram.pdf\", bbox_inches='tight')"
   ]
  },
  {
   "cell_type": "code",
   "execution_count": 17,
   "metadata": {},
   "outputs": [
    {
     "data": {
      "text/plain": [
       "{33, 539, 635}"
      ]
     },
     "execution_count": 17,
     "metadata": {},
     "output_type": "execute_result"
    }
   ],
   "source": [
    "lassosig & ucsig & hgsig"
   ]
  }
 ],
 "metadata": {
  "kernelspec": {
   "display_name": "Python 3",
   "language": "python",
   "name": "python3"
  },
  "language_info": {
   "codemirror_mode": {
    "name": "ipython",
    "version": 3
   },
   "file_extension": ".py",
   "mimetype": "text/x-python",
   "name": "python",
   "nbconvert_exporter": "python",
   "pygments_lexer": "ipython3",
   "version": "3.7.3"
  }
 },
 "nbformat": 4,
 "nbformat_minor": 2
}
