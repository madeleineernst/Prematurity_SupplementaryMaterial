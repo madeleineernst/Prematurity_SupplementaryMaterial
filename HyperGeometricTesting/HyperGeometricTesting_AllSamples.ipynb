{
 "cells": [
  {
   "cell_type": "markdown",
   "metadata": {},
   "source": [
    "# Identification of molecular families overrepresented in metabolites correlating with gestational age using hypergeometric testing"
   ]
  },
  {
   "cell_type": "markdown",
   "metadata": {},
   "source": [
    "load libraries"
   ]
  },
  {
   "cell_type": "code",
   "execution_count": 1,
   "metadata": {},
   "outputs": [],
   "source": [
    "import sys\n",
    "import networkx as nx\n",
    "import csv\n",
    "import glob\n",
    "\n",
    "import numpy as np\n",
    "import pylab as plt\n",
    "\n",
    "%matplotlib inline"
   ]
  },
  {
   "cell_type": "markdown",
   "metadata": {},
   "source": [
    "## Load the edges"
   ]
  },
  {
   "cell_type": "code",
   "execution_count": 2,
   "metadata": {},
   "outputs": [],
   "source": [
    "edge_file = glob.glob(\"GNPS_TopK2E5MaxComp0/networkedges_selfloop/*..selfloop\")[0]\n",
    "lines = []\n",
    "with open(edge_file,'r') as f:\n",
    "    reader = csv.reader(f,delimiter='\\t')\n",
    "    heads = next(reader)\n",
    "    for line in reader:\n",
    "        lines.append(line)"
   ]
  },
  {
   "cell_type": "markdown",
   "metadata": {},
   "source": [
    "## Load the IDs that need to be checked"
   ]
  },
  {
   "cell_type": "code",
   "execution_count": 3,
   "metadata": {},
   "outputs": [],
   "source": [
    "interesting_ids = {}\n",
    "with open('LibrarySpectrumIDs.csv','r') as f:\n",
    "    reader = csv.reader(f)\n",
    "    heads = next(reader)\n",
    "    for line in reader:\n",
    "        interesting_ids[line[0]] = line[1]"
   ]
  },
  {
   "cell_type": "markdown",
   "metadata": {},
   "source": [
    "## Load the correlations and selected features"
   ]
  },
  {
   "cell_type": "code",
   "execution_count": 4,
   "metadata": {},
   "outputs": [],
   "source": [
    "node_p = {}\n",
    "with open('../CorrelationAnalysis/KendallsTauCorrelation_pval_GA_1000Perm.txt','r') as f:\n",
    "    reader = csv.reader(f,delimiter = '\\t')\n",
    "    heads = next(reader)\n",
    "    for line in reader:\n",
    "        node = int(line[2])\n",
    "        if line[3] == \"NA\":\n",
    "            pv = 0\n",
    "        else:\n",
    "            pv = int(line[3])\n",
    "        node_p[node] = pv"
   ]
  },
  {
   "cell_type": "markdown",
   "metadata": {},
   "source": [
    "## Load the spectral hits"
   ]
  },
  {
   "cell_type": "code",
   "execution_count": 5,
   "metadata": {},
   "outputs": [],
   "source": [
    "hits_file = glob.glob(\"GNPS_TopK2E5MaxComp0/DB_result/*.tsv\")[0]\n",
    "hits = {}\n",
    "ccms_name = {}\n",
    "with open(hits_file,'r') as f:\n",
    "    reader = csv.reader(f,delimiter = '\\t')\n",
    "    heads = next(reader)\n",
    "    for line in reader:\n",
    "        ccms = line[-4]\n",
    "        if not ccms in ccms_name:\n",
    "            ccms_name[ccms] = line[4]\n",
    "        node_id = int(line[0])\n",
    "        if not ccms in hits:\n",
    "            hits[ccms] = set([node_id])\n",
    "        else:\n",
    "            hits[ccms].add(node_id)"
   ]
  },
  {
   "cell_type": "code",
   "execution_count": 7,
   "metadata": {},
   "outputs": [],
   "source": [
    "# reverse dict\n",
    "node_hits = {}\n",
    "for ccms,nodes in hits.items():\n",
    "    for node in nodes:\n",
    "        if not node in node_hits:\n",
    "            node_hits[node] = [ccms]\n",
    "        else:\n",
    "            node_hits[node].append(ccms)\n",
    "            "
   ]
  },
  {
   "cell_type": "markdown",
   "metadata": {},
   "source": [
    "## Make the graph"
   ]
  },
  {
   "cell_type": "code",
   "execution_count": 8,
   "metadata": {},
   "outputs": [],
   "source": [
    "edge_threshold = 0.7\n",
    "G = nx.Graph()\n",
    "for line in lines:\n",
    "    node1 = int(line[0])\n",
    "    node2 = int(line[1])\n",
    "    weight = float(line[4])\n",
    "    if node1 in node_p and node2 in node_p and weight >= edge_threshold:\n",
    "        G.add_edge(node1,node2,weight = weight)\n",
    "        \n",
    "all_nodes = G.nodes()\n",
    "for node in node_p:\n",
    "    if not node in all_nodes:\n",
    "        G.add_edge(node,node,weight = 1)"
   ]
  },
  {
   "cell_type": "markdown",
   "metadata": {},
   "source": [
    "## Work out the number at p<=0.05"
   ]
  },
  {
   "cell_type": "code",
   "execution_count": 9,
   "metadata": {},
   "outputs": [
    {
     "name": "stdout",
     "output_type": "stream",
     "text": [
      "130\n"
     ]
    },
    {
     "data": {
      "image/png": "[encoded data removed]",
      "text/plain": [
       "<Figure size 432x288 with 1 Axes>"
      ]
     },
     "metadata": {
      "needs_background": "light"
     },
     "output_type": "display_data"
    }
   ],
   "source": [
    "perc_chosen = 11.26\n",
    "prob_choose = perc_chosen/100\n",
    "from scipy.stats import binom\n",
    "b = binom(1000,prob_choose)\n",
    "probs = []\n",
    "for i in np.arange(0,1000):\n",
    "    probs.append((i,b.pmf(np.arange(i,1001)).sum()))\n",
    "a,b = zip(*probs)\n",
    "plt.plot(a,b)\n",
    "plt.plot(plt.xlim(),[0.05,0.05],'r--')\n",
    "plt.ylim([0,0.1])\n",
    "plt.xlim([100,200])\n",
    "plt.savefig('probs.png')\n",
    "pos = np.where(np.array(b)<=0.05)[0][0]\n",
    "sig_thresh = np.array(a)[pos]\n",
    "print(sig_thresh) # number of times we need to see it out of 1000"
   ]
  },
  {
   "cell_type": "code",
   "execution_count": 10,
   "metadata": {},
   "outputs": [
    {
     "name": "stdout",
     "output_type": "stream",
     "text": [
      "1459\n",
      "9010\n"
     ]
    }
   ],
   "source": [
    "k = list(node_p.keys())\n",
    "v = list(node_p.values())\n",
    "v = np.array(v)\n",
    "vrandom = np.random.permutation(v)\n",
    "node_p_random = {k:v for k,v in zip(k,vrandom)}\n",
    "\n",
    "# total sig\n",
    "tot_sig = sum([v >= sig_thresh for v in node_p.values()])\n",
    "print(tot_sig)\n",
    "tot_nodes = len(node_p)\n",
    "print(tot_nodes)"
   ]
  },
  {
   "cell_type": "code",
   "execution_count": 11,
   "metadata": {},
   "outputs": [],
   "source": [
    "from scipy.stats import hypergeom\n",
    "import numpy as np\n",
    "missing = []\n",
    "nhg = []\n",
    "for node in node_p:\n",
    "    assert node in node_p\n",
    "    n_neighbours = len(list(G.neighbors(node)))\n",
    "    n_sig = sum([node_p[v] >= sig_thresh for v in G.neighbors(node)])\n",
    "    M = tot_nodes\n",
    "    if node_p[node] >= sig_thresh:\n",
    "        n = tot_sig + 1 # include itself\n",
    "        N = n_neighbours + 1 # include itself\n",
    "    else:\n",
    "        n = tot_sig\n",
    "        N = n_neighbours\n",
    "    rv = hypergeom(M,n,N)\n",
    "    poss_sig = np.arange(n_sig,n+1)\n",
    "    nhg.append((node,N,n_sig,(rv.pmf(poss_sig)).sum()))\n",
    "        \n",
    "nhg.sort(key = lambda x: x[-1])    \n",
    "node_p_val_dict = {n:i for n,_,_,i in nhg}"
   ]
  },
  {
   "cell_type": "code",
   "execution_count": 12,
   "metadata": {},
   "outputs": [],
   "source": [
    "missing = []\n",
    "nhg_random = []\n",
    "for node in node_p_random:\n",
    "    assert node in node_p_random\n",
    "    n_neighbours = len(list(G.neighbors(node)))\n",
    "    n_sig = sum([node_p_random[v] >= sig_thresh for v in G.neighbors(node)])\n",
    "    M = tot_nodes\n",
    "    if node_p_random[node] >= sig_thresh:\n",
    "        n = tot_sig + 1 # include itself\n",
    "        N = n_neighbours + 1 # include itself\n",
    "    else:\n",
    "        n = tot_sig\n",
    "        N = n_neighbours\n",
    "    rv = hypergeom(M,n,N)\n",
    "    poss_sig = np.arange(n_sig,n+1)\n",
    "    nhg_random.append((node,N,n_sig,(rv.pmf(poss_sig)).sum()))\n",
    "        \n",
    "nhg_random.sort(key = lambda x: x[-1])\n",
    "\n",
    "_,_,_,pv_random = zip(*nhg_random)\n",
    "_,_,_,pv = zip(*nhg)"
   ]
  },
  {
   "cell_type": "code",
   "execution_count": 13,
   "metadata": {},
   "outputs": [
    {
     "data": {
      "image/png": "[encoded data removed]",
      "text/plain": [
       "<Figure size 432x288 with 1 Axes>"
      ]
     },
     "metadata": {
      "needs_background": "light"
     },
     "output_type": "display_data"
    },
    {
     "data": {
      "image/png": "[encoded data removed]",
      "text/plain": [
       "<Figure size 432x288 with 1 Axes>"
      ]
     },
     "metadata": {
      "needs_background": "light"
     },
     "output_type": "display_data"
    },
    {
     "data": {
      "image/png": "[encoded data removed]",
      "text/plain": [
       "<Figure size 432x288 with 1 Axes>"
      ]
     },
     "metadata": {
      "needs_background": "light"
     },
     "output_type": "display_data"
    },
    {
     "data": {
      "image/png": "[encoded data removed]",
      "text/plain": [
       "<Figure size 432x288 with 2 Axes>"
      ]
     },
     "metadata": {
      "needs_background": "light"
     },
     "output_type": "display_data"
    }
   ],
   "source": [
    "import pylab as plt\n",
    "%matplotlib inline\n",
    "bw = 0.5\n",
    "b = plt.hist(-np.log(pv),bins=20)\n",
    "plt.figure()\n",
    "a = plt.hist(-np.log(pv_random),bins = b[1])\n",
    "plt.figure()\n",
    "bin_cents = (b[1][:-1] + b[1][1:])/2\n",
    "plt.bar(bin_cents,b[0],width=bw,label = 'true')\n",
    "plt.bar(bin_cents+bw,a[0],width=bw,label='random')\n",
    "plt.legend()\n",
    "# plt.ylim([0,50])\n",
    "\n",
    "f, (ax, ax2) = plt.subplots(2, 1, sharex=True)\n",
    "# plot the same data on both axes\n",
    "ax.bar(bin_cents,b[0],width=bw,label = 'true')\n",
    "ax.bar(bin_cents+bw,a[0],width=bw,label='random',color = [1,0,0])\n",
    "\n",
    "ax2.bar(bin_cents,b[0],width=bw,label = 'true')\n",
    "ax2.bar(bin_cents+bw,a[0],width=bw,label='random',color = [1,0,0])\n",
    "\n",
    "l = 160\n",
    "ll = 100\n",
    "ax2.set_ylim(0,l)\n",
    "ax.set_ylim(ll,10000)\n",
    "\n",
    "ax.spines['bottom'].set_visible(False)\n",
    "ax2.spines['top'].set_visible(False)\n",
    "ax.xaxis.tick_top()\n",
    "ax.tick_params(labeltop=False)  # don't put tick labels at the top\n",
    "ax2.xaxis.tick_bottom()\n",
    "\n",
    "d = .015  # how big to make the diagonal lines in axes coordinates\n",
    "# arguments to pass to plot, just so we don't keep repeating them\n",
    "kwargs = dict(transform=ax.transAxes, color='k', clip_on=False)\n",
    "ax.plot((-d, +d), (-d, +d), **kwargs)        # top-left diagonal\n",
    "ax.plot((1 - d, 1 + d), (-d, +d), **kwargs)  # top-right diagonal\n",
    "\n",
    "kwargs.update(transform=ax2.transAxes)  # switch to the bottom axes\n",
    "ax2.plot((-d, +d), (1 - d, 1 + d), **kwargs)  # bottom-left diagonal\n",
    "ax2.plot((1 - d, 1 + d), (1 - d, 1 + d), **kwargs)  # bottom-right diagonal\n",
    "\n",
    "ax2.set_xlabel('-log p')\n",
    "ax.set_title('Blue = real, red = random')\n",
    "plt.savefig('test.png')"
   ]
  },
  {
   "cell_type": "markdown",
   "metadata": {},
   "source": [
    "## Make output file\n"
   ]
  },
  {
   "cell_type": "code",
   "execution_count": 14,
   "metadata": {},
   "outputs": [],
   "source": [
    "with open('output.csv','w') as f:\n",
    "    writer = csv.writer(f)\n",
    "    heads = ['node','sig','p_neigh','sig_neigh','hits']\n",
    "    writer.writerow(heads)\n",
    "    for node,p in node_p.items():\n",
    "        new_row = [node]\n",
    "        new_row.append(p>=sig_thresh)\n",
    "        new_row.append(node_p_val_dict[node])\n",
    "        new_row.append(node_p_val_dict[node]<=0.05)\n",
    "        if node in node_hits:\n",
    "            new_row.append(';'.join([\"({}:{})\".format(c,ccms_name[c]) for c in node_hits[node]]))\n",
    "        else:\n",
    "            new_row.append('')\n",
    "        writer.writerow(new_row)"
   ]
  }
 ],
 "metadata": {
  "kernelspec": {
   "display_name": "Python 3",
   "language": "python",
   "name": "python3"
  },
  "language_info": {
   "codemirror_mode": {
    "name": "ipython",
    "version": 3
   },
   "file_extension": ".py",
   "mimetype": "text/x-python",
   "name": "python",
   "nbconvert_exporter": "python",
   "pygments_lexer": "ipython3",
   "version": "3.7.3"
  }
 },
 "nbformat": 4,
 "nbformat_minor": 4
}
