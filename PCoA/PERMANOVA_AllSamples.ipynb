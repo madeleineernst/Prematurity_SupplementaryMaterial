{
 "cells": [
  {
   "cell_type": "markdown",
   "metadata": {},
   "source": [
    "# Permutational Multivariate Analysis of Variance (PERMANOVA)"
   ]
  },
  {
   "cell_type": "markdown",
   "metadata": {},
   "source": [
    "load libraries"
   ]
  },
  {
   "cell_type": "code",
   "execution_count": 1,
   "metadata": {},
   "outputs": [
    {
     "name": "stderr",
     "output_type": "stream",
     "text": [
      "Loading required package: permute\n",
      "\n",
      "Loading required package: lattice\n",
      "\n",
      "Warning message:\n",
      "“package ‘lattice’ was built under R version 3.6.2”\n",
      "This is vegan 2.5-6\n",
      "\n",
      "Warning message:\n",
      "“package ‘car’ was built under R version 3.6.2”\n",
      "Loading required package: carData\n",
      "\n",
      "Warning message:\n",
      "“package ‘carData’ was built under R version 3.6.2”\n"
     ]
    }
   ],
   "source": [
    "library(vegan)\n",
    "library(car)"
   ]
  },
  {
   "cell_type": "markdown",
   "metadata": {},
   "source": [
    "load feature table"
   ]
  },
  {
   "cell_type": "code",
   "execution_count": 2,
   "metadata": {},
   "outputs": [],
   "source": [
    "ft <- read.csv('../../featuretable_blankfiltered_batchnormalised.tsv', sep = '\\t', check.names = F, row.names = 1)"
   ]
  },
  {
   "cell_type": "code",
   "execution_count": 3,
   "metadata": {},
   "outputs": [],
   "source": [
    "# remove NA rows\n",
    "if (length(which(is.na(colSums(ft))) != 0)){\n",
    "  ft <- ft[,-which(is.na(colSums(ft)))]\n",
    "}"
   ]
  },
  {
   "cell_type": "markdown",
   "metadata": {},
   "source": [
    "load metadata"
   ]
  },
  {
   "cell_type": "code",
   "execution_count": 6,
   "metadata": {},
   "outputs": [],
   "source": [
    "md <- read.csv('../../metadata.tsv', sep = '\\t', check.names = F, stringsAsFactors = F)"
   ]
  },
  {
   "cell_type": "code",
   "execution_count": 7,
   "metadata": {},
   "outputs": [
    {
     "data": {
      "text/html": [
       "TRUE"
      ],
      "text/latex": [
       "TRUE"
      ],
      "text/markdown": [
       "TRUE"
      ],
      "text/plain": [
       "[1] TRUE"
      ]
     },
     "metadata": {},
     "output_type": "display_data"
    }
   ],
   "source": [
    "md <- md[match(colnames(ft),md$'#SampleID'),]\n",
    "identical(colnames(ft),md$'#SampleID')"
   ]
  },
  {
   "cell_type": "markdown",
   "metadata": {},
   "source": [
    "calculate Bray-Curtis distance matrix"
   ]
  },
  {
   "cell_type": "code",
   "execution_count": 8,
   "metadata": {},
   "outputs": [],
   "source": [
    "dm <- vegdist(t(ft), method = 'bray')"
   ]
  },
  {
   "cell_type": "markdown",
   "metadata": {},
   "source": [
    "perform PERMANOVA on gestational age"
   ]
  },
  {
   "cell_type": "code",
   "execution_count": 9,
   "metadata": {},
   "outputs": [
    {
     "data": {
      "text/plain": [
       "\n",
       "Call:\n",
       "adonis(formula = dm ~ md[, colnames(md) == \"Gestationsalder\"]) \n",
       "\n",
       "Permutation: free\n",
       "Number of permutations: 999\n",
       "\n",
       "Terms added sequentially (first to last)\n",
       "\n",
       "                                         Df SumsOfSqs MeanSqs F.Model      R2\n",
       "md[, colnames(md) == \"Gestationsalder\"]   1     1.249 1.24856  7.8497 0.02583\n",
       "Residuals                               296    47.081 0.15906         0.97417\n",
       "Total                                   297    48.330                 1.00000\n",
       "                                        Pr(>F)    \n",
       "md[, colnames(md) == \"Gestationsalder\"]  0.001 ***\n",
       "Residuals                                         \n",
       "Total                                             \n",
       "---\n",
       "Signif. codes:  0 ‘***’ 0.001 ‘**’ 0.01 ‘*’ 0.05 ‘.’ 0.1 ‘ ’ 1"
      ]
     },
     "metadata": {},
     "output_type": "display_data"
    },
    {
     "data": {
      "text/html": [
       "0.0258343099481831"
      ],
      "text/latex": [
       "0.0258343099481831"
      ],
      "text/markdown": [
       "0.0258343099481831"
      ],
      "text/plain": [
       "[1] 0.02583431"
      ]
     },
     "metadata": {},
     "output_type": "display_data"
    }
   ],
   "source": [
    "adonis(dm ~ md[,colnames(md) == 'Gestationsalder'])\n",
    "adonis(dm ~ md[,colnames(md) == 'Gestationsalder'])$aov.tab$R2[1]"
   ]
  }
 ],
 "metadata": {
  "kernelspec": {
   "display_name": "R",
   "language": "R",
   "name": "ir"
  },
  "language_info": {
   "codemirror_mode": "r",
   "file_extension": ".r",
   "mimetype": "text/x-r-source",
   "name": "R",
   "pygments_lexer": "r",
   "version": "3.6.1"
  }
 },
 "nbformat": 4,
 "nbformat_minor": 2
}
