{
 "cells": [
  {
   "cell_type": "markdown",
   "metadata": {},
   "source": [
    "# Permutational Multivariate Analysis of Variance (PERMANOVA)"
   ]
  },
  {
   "cell_type": "markdown",
   "metadata": {},
   "source": [
    "load libraries"
   ]
  },
  {
   "cell_type": "code",
   "execution_count": 1,
   "metadata": {},
   "outputs": [
    {
     "name": "stderr",
     "output_type": "stream",
     "text": [
      "Loading required package: permute\n",
      "\n",
      "Loading required package: lattice\n",
      "\n",
      "This is vegan 2.5-6\n",
      "\n",
      "Loading required package: carData\n",
      "\n"
     ]
    }
   ],
   "source": [
    "library(vegan)\n",
    "library(car)"
   ]
  },
  {
   "cell_type": "markdown",
   "metadata": {},
   "source": [
    "load feature table"
   ]
  },
  {
   "cell_type": "code",
   "execution_count": 2,
   "metadata": {},
   "outputs": [],
   "source": [
    "ft <- read.csv('../../featuretable_blankfiltered.tsv', sep = '\\t', check.names = F, row.names = 1)"
   ]
  },
  {
   "cell_type": "code",
   "execution_count": 3,
   "metadata": {},
   "outputs": [],
   "source": [
    "# remove NA rows\n",
    "if (length(which(is.na(colSums(ft))) != 0)){\n",
    "  ft <- ft[,-which(is.na(colSums(ft)))]\n",
    "}"
   ]
  },
  {
   "cell_type": "markdown",
   "metadata": {},
   "source": [
    "load metadata"
   ]
  },
  {
   "cell_type": "code",
   "execution_count": 4,
   "metadata": {},
   "outputs": [],
   "source": [
    "md <- read.csv('../../metadata.tsv', sep = '\\t', check.names = F, stringsAsFactors = F)"
   ]
  },
  {
   "cell_type": "code",
   "execution_count": 5,
   "metadata": {},
   "outputs": [
    {
     "data": {
      "text/html": [
       "TRUE"
      ],
      "text/latex": [
       "TRUE"
      ],
      "text/markdown": [
       "TRUE"
      ],
      "text/plain": [
       "[1] TRUE"
      ]
     },
     "metadata": {},
     "output_type": "display_data"
    }
   ],
   "source": [
    "md <- md[match(colnames(ft),md$filename),]\n",
    "identical(colnames(ft),md$filename)"
   ]
  },
  {
   "cell_type": "markdown",
   "metadata": {},
   "source": [
    "calculate Bray-Curtis distance matrix"
   ]
  },
  {
   "cell_type": "code",
   "execution_count": 6,
   "metadata": {},
   "outputs": [],
   "source": [
    "dm <- vegdist(t(ft), method = 'bray')"
   ]
  },
  {
   "cell_type": "markdown",
   "metadata": {},
   "source": [
    "perform PERMANOVA on gestational age"
   ]
  },
  {
   "cell_type": "code",
   "execution_count": 7,
   "metadata": {},
   "outputs": [
    {
     "data": {
      "text/plain": [
       "\n",
       "Call:\n",
       "adonis(formula = dm ~ md[, colnames(md) == \"ATTRIBUTE_Gestationsalder\"]) \n",
       "\n",
       "Permutation: free\n",
       "Number of permutations: 999\n",
       "\n",
       "Terms added sequentially (first to last)\n",
       "\n",
       "                                                   Df SumsOfSqs  MeanSqs\n",
       "md[, colnames(md) == \"ATTRIBUTE_Gestationsalder\"]   1    0.2317 0.231712\n",
       "Residuals                                         146    6.0520 0.041452\n",
       "Total                                             147    6.2837         \n",
       "                                                  F.Model      R2 Pr(>F)    \n",
       "md[, colnames(md) == \"ATTRIBUTE_Gestationsalder\"]  5.5899 0.03688  0.001 ***\n",
       "Residuals                                                 0.96312           \n",
       "Total                                                     1.00000           \n",
       "---\n",
       "Signif. codes:  0 ‘***’ 0.001 ‘**’ 0.01 ‘*’ 0.05 ‘.’ 0.1 ‘ ’ 1"
      ]
     },
     "metadata": {},
     "output_type": "display_data"
    },
    {
     "data": {
      "text/html": [
       "0.0368752138514698"
      ],
      "text/latex": [
       "0.0368752138514698"
      ],
      "text/markdown": [
       "0.0368752138514698"
      ],
      "text/plain": [
       "[1] 0.03687521"
      ]
     },
     "metadata": {},
     "output_type": "display_data"
    }
   ],
   "source": [
    "adonis(dm ~ md[,colnames(md) == 'ATTRIBUTE_Gestationsalder'])\n",
    "adonis(dm ~ md[,colnames(md) == 'ATTRIBUTE_Gestationsalder'])$aov.tab$R2[1]"
   ]
  }
 ],
 "metadata": {
  "kernelspec": {
   "display_name": "R",
   "language": "R",
   "name": "ir"
  },
  "language_info": {
   "codemirror_mode": "r",
   "file_extension": ".r",
   "mimetype": "text/x-r-source",
   "name": "R",
   "pygments_lexer": "r",
   "version": "3.6.1"
  }
 },
 "nbformat": 4,
 "nbformat_minor": 2
}
