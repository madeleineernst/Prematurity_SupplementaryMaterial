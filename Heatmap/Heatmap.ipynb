{
 "cells": [
  {
   "cell_type": "markdown",
   "metadata": {},
   "source": [
    "# Create a heatmap of all annotated ions significantly related to gestational age"
   ]
  },
  {
   "cell_type": "markdown",
   "metadata": {},
   "source": [
    "load libraries"
   ]
  },
  {
   "cell_type": "code",
   "execution_count": 1,
   "metadata": {},
   "outputs": [
    {
     "name": "stderr",
     "output_type": "stream",
     "text": [
      "Warning message:\n",
      "“package ‘gplots’ was built under R version 3.6.2”\n",
      "\n",
      "Attaching package: ‘gplots’\n",
      "\n",
      "\n",
      "The following object is masked from ‘package:stats’:\n",
      "\n",
      "    lowess\n",
      "\n",
      "\n",
      "Warning message:\n",
      "“package ‘scales’ was built under R version 3.6.2”\n",
      "Loading required package: viridisLite\n",
      "\n",
      "\n",
      "Attaching package: ‘viridis’\n",
      "\n",
      "\n",
      "The following object is masked from ‘package:scales’:\n",
      "\n",
      "    viridis_pal\n",
      "\n",
      "\n"
     ]
    }
   ],
   "source": [
    "library(gplots)\n",
    "library(RColorBrewer)\n",
    "library(scales)\n",
    "library(viridis)\n",
    "library(beeswarm)"
   ]
  },
  {
   "cell_type": "markdown",
   "metadata": {},
   "source": [
    "load results from univariate analysis and hypergeometric testing"
   ]
  },
  {
   "cell_type": "code",
   "execution_count": 2,
   "metadata": {},
   "outputs": [],
   "source": [
    "t <- read.csv('../HypergeometricTesting/output.csv', stringsAsFactors = F)"
   ]
  },
  {
   "cell_type": "code",
   "execution_count": 3,
   "metadata": {},
   "outputs": [
    {
     "data": {
      "text/html": [
       "<table>\n",
       "<caption>A data.frame: 6 × 5</caption>\n",
       "<thead>\n",
       "\t<tr><th></th><th scope=col>node</th><th scope=col>sig</th><th scope=col>p_neigh</th><th scope=col>sig_neigh</th><th scope=col>hits</th></tr>\n",
       "\t<tr><th></th><th scope=col>&lt;int&gt;</th><th scope=col>&lt;chr&gt;</th><th scope=col>&lt;dbl&gt;</th><th scope=col>&lt;chr&gt;</th><th scope=col>&lt;chr&gt;</th></tr>\n",
       "</thead>\n",
       "<tbody>\n",
       "\t<tr><th scope=row>1</th><td> 48</td><td>False</td><td>1.0000000</td><td>False</td><td>                                         </td></tr>\n",
       "\t<tr><th scope=row>2</th><td> 73</td><td>False</td><td>0.1450814</td><td>False</td><td>                                         </td></tr>\n",
       "\t<tr><th scope=row>3</th><td> 74</td><td>False</td><td>1.0000000</td><td>False</td><td>                                         </td></tr>\n",
       "\t<tr><th scope=row>4</th><td> 84</td><td>False</td><td>0.8336212</td><td>False</td><td>                                         </td></tr>\n",
       "\t<tr><th scope=row>5</th><td>100</td><td>False</td><td>1.0000000</td><td>False</td><td>                                         </td></tr>\n",
       "\t<tr><th scope=row>6</th><td>104</td><td>False</td><td>0.5866621</td><td>False</td><td>(CCMSLIB00000579927:CocamidoprpylBetaine)</td></tr>\n",
       "</tbody>\n",
       "</table>\n"
      ],
      "text/latex": [
       "A data.frame: 6 × 5\n",
       "\\begin{tabular}{r|lllll}\n",
       "  & node & sig & p\\_neigh & sig\\_neigh & hits\\\\\n",
       "  & <int> & <chr> & <dbl> & <chr> & <chr>\\\\\n",
       "\\hline\n",
       "\t1 &  48 & False & 1.0000000 & False &                                          \\\\\n",
       "\t2 &  73 & False & 0.1450814 & False &                                          \\\\\n",
       "\t3 &  74 & False & 1.0000000 & False &                                          \\\\\n",
       "\t4 &  84 & False & 0.8336212 & False &                                          \\\\\n",
       "\t5 & 100 & False & 1.0000000 & False &                                          \\\\\n",
       "\t6 & 104 & False & 0.5866621 & False & (CCMSLIB00000579927:CocamidoprpylBetaine)\\\\\n",
       "\\end{tabular}\n"
      ],
      "text/markdown": [
       "\n",
       "A data.frame: 6 × 5\n",
       "\n",
       "| <!--/--> | node &lt;int&gt; | sig &lt;chr&gt; | p_neigh &lt;dbl&gt; | sig_neigh &lt;chr&gt; | hits &lt;chr&gt; |\n",
       "|---|---|---|---|---|---|\n",
       "| 1 |  48 | False | 1.0000000 | False | <!----> |\n",
       "| 2 |  73 | False | 0.1450814 | False | <!----> |\n",
       "| 3 |  74 | False | 1.0000000 | False | <!----> |\n",
       "| 4 |  84 | False | 0.8336212 | False | <!----> |\n",
       "| 5 | 100 | False | 1.0000000 | False | <!----> |\n",
       "| 6 | 104 | False | 0.5866621 | False | (CCMSLIB00000579927:CocamidoprpylBetaine) |\n",
       "\n"
      ],
      "text/plain": [
       "  node sig   p_neigh   sig_neigh hits                                     \n",
       "1  48  False 1.0000000 False                                              \n",
       "2  73  False 0.1450814 False                                              \n",
       "3  74  False 1.0000000 False                                              \n",
       "4  84  False 0.8336212 False                                              \n",
       "5 100  False 1.0000000 False                                              \n",
       "6 104  False 0.5866621 False     (CCMSLIB00000579927:CocamidoprpylBetaine)"
      ]
     },
     "metadata": {},
     "output_type": "display_data"
    },
    {
     "data": {
      "text/html": [
       "<style>\n",
       ".list-inline {list-style: none; margin:0; padding: 0}\n",
       ".list-inline>li {display: inline-block}\n",
       ".list-inline>li:not(:last-child)::after {content: \"\\00b7\"; padding: 0 .5ex}\n",
       "</style>\n",
       "<ol class=list-inline><li>9010</li><li>5</li></ol>\n"
      ],
      "text/latex": [
       "\\begin{enumerate*}\n",
       "\\item 9010\n",
       "\\item 5\n",
       "\\end{enumerate*}\n"
      ],
      "text/markdown": [
       "1. 9010\n",
       "2. 5\n",
       "\n",
       "\n"
      ],
      "text/plain": [
       "[1] 9010    5"
      ]
     },
     "metadata": {},
     "output_type": "display_data"
    }
   ],
   "source": [
    "head(t)\n",
    "dim(t)"
   ]
  },
  {
   "cell_type": "markdown",
   "metadata": {},
   "source": [
    "add manually annotated compounds"
   ]
  },
  {
   "cell_type": "code",
   "execution_count": 6,
   "metadata": {},
   "outputs": [],
   "source": [
    "t$hits[which(t$node == '8491')] <- 'Quinaldic acid, manually annotated'\n",
    "t$hits[which(t$node == '19842')] <- 'Imidazole propionate, manually annotated'"
   ]
  },
  {
   "cell_type": "markdown",
   "metadata": {},
   "source": [
    "load results from LASSO regression"
   ]
  },
  {
   "cell_type": "code",
   "execution_count": 8,
   "metadata": {},
   "outputs": [],
   "source": [
    "lasso <- read.csv('../LASSO/_coefs_imported.csv', comment.char = \"\", check.names = F)"
   ]
  },
  {
   "cell_type": "code",
   "execution_count": 9,
   "metadata": {},
   "outputs": [
    {
     "data": {
      "text/html": [
       "83"
      ],
      "text/latex": [
       "83"
      ],
      "text/markdown": [
       "83"
      ],
      "text/plain": [
       "[1] 83"
      ]
     },
     "metadata": {},
     "output_type": "display_data"
    }
   ],
   "source": [
    "length(lasso$'#OTU ID')"
   ]
  },
  {
   "cell_type": "code",
   "execution_count": 10,
   "metadata": {},
   "outputs": [],
   "source": [
    "t$lasso <- rep('False',nrow(t))"
   ]
  },
  {
   "cell_type": "code",
   "execution_count": 11,
   "metadata": {},
   "outputs": [],
   "source": [
    "t$lasso[which(t$node %in% lasso$'#OTU ID')] <- 'True'"
   ]
  },
  {
   "cell_type": "code",
   "execution_count": 12,
   "metadata": {},
   "outputs": [],
   "source": [
    "t <- t[, c(\"node\", \"sig\", \"p_neigh\", \"sig_neigh\",\"lasso\", \"hits\")]"
   ]
  },
  {
   "cell_type": "code",
   "execution_count": 14,
   "metadata": {},
   "outputs": [
    {
     "data": {
      "text/html": [
       "<table>\n",
       "<caption>A data.frame: 6 × 6</caption>\n",
       "<thead>\n",
       "\t<tr><th></th><th scope=col>node</th><th scope=col>sig</th><th scope=col>p_neigh</th><th scope=col>sig_neigh</th><th scope=col>lasso</th><th scope=col>hits</th></tr>\n",
       "\t<tr><th></th><th scope=col>&lt;int&gt;</th><th scope=col>&lt;chr&gt;</th><th scope=col>&lt;dbl&gt;</th><th scope=col>&lt;chr&gt;</th><th scope=col>&lt;chr&gt;</th><th scope=col>&lt;chr&gt;</th></tr>\n",
       "</thead>\n",
       "<tbody>\n",
       "\t<tr><th scope=row>99</th><td>1037</td><td>False</td><td>1.000000000</td><td>False</td><td>True</td><td></td></tr>\n",
       "\t<tr><th scope=row>170</th><td>1574</td><td>True </td><td>0.070232734</td><td>False</td><td>True</td><td></td></tr>\n",
       "\t<tr><th scope=row>195</th><td>1764</td><td>True </td><td>0.003958164</td><td>True </td><td>True</td><td></td></tr>\n",
       "\t<tr><th scope=row>315</th><td>2698</td><td>False</td><td>0.173604216</td><td>False</td><td>True</td><td></td></tr>\n",
       "\t<tr><th scope=row>327</th><td>2710</td><td>True </td><td>0.003958164</td><td>True </td><td>True</td><td></td></tr>\n",
       "\t<tr><th scope=row>436</th><td>2825</td><td>True </td><td>0.306870606</td><td>False</td><td>True</td><td></td></tr>\n",
       "</tbody>\n",
       "</table>\n"
      ],
      "text/latex": [
       "A data.frame: 6 × 6\n",
       "\\begin{tabular}{r|llllll}\n",
       "  & node & sig & p\\_neigh & sig\\_neigh & lasso & hits\\\\\n",
       "  & <int> & <chr> & <dbl> & <chr> & <chr> & <chr>\\\\\n",
       "\\hline\n",
       "\t99 & 1037 & False & 1.000000000 & False & True & \\\\\n",
       "\t170 & 1574 & True  & 0.070232734 & False & True & \\\\\n",
       "\t195 & 1764 & True  & 0.003958164 & True  & True & \\\\\n",
       "\t315 & 2698 & False & 0.173604216 & False & True & \\\\\n",
       "\t327 & 2710 & True  & 0.003958164 & True  & True & \\\\\n",
       "\t436 & 2825 & True  & 0.306870606 & False & True & \\\\\n",
       "\\end{tabular}\n"
      ],
      "text/markdown": [
       "\n",
       "A data.frame: 6 × 6\n",
       "\n",
       "| <!--/--> | node &lt;int&gt; | sig &lt;chr&gt; | p_neigh &lt;dbl&gt; | sig_neigh &lt;chr&gt; | lasso &lt;chr&gt; | hits &lt;chr&gt; |\n",
       "|---|---|---|---|---|---|---|\n",
       "| 99 | 1037 | False | 1.000000000 | False | True | <!----> |\n",
       "| 170 | 1574 | True  | 0.070232734 | False | True | <!----> |\n",
       "| 195 | 1764 | True  | 0.003958164 | True  | True | <!----> |\n",
       "| 315 | 2698 | False | 0.173604216 | False | True | <!----> |\n",
       "| 327 | 2710 | True  | 0.003958164 | True  | True | <!----> |\n",
       "| 436 | 2825 | True  | 0.306870606 | False | True | <!----> |\n",
       "\n"
      ],
      "text/plain": [
       "    node sig   p_neigh     sig_neigh lasso hits\n",
       "99  1037 False 1.000000000 False     True      \n",
       "170 1574 True  0.070232734 False     True      \n",
       "195 1764 True  0.003958164 True      True      \n",
       "315 2698 False 0.173604216 False     True      \n",
       "327 2710 True  0.003958164 True      True      \n",
       "436 2825 True  0.306870606 False     True      "
      ]
     },
     "metadata": {},
     "output_type": "display_data"
    },
    {
     "data": {
      "text/html": [
       "<style>\n",
       ".list-inline {list-style: none; margin:0; padding: 0}\n",
       ".list-inline>li {display: inline-block}\n",
       ".list-inline>li:not(:last-child)::after {content: \"\\00b7\"; padding: 0 .5ex}\n",
       "</style>\n",
       "<ol class=list-inline><li>83</li><li>6</li></ol>\n"
      ],
      "text/latex": [
       "\\begin{enumerate*}\n",
       "\\item 83\n",
       "\\item 6\n",
       "\\end{enumerate*}\n"
      ],
      "text/markdown": [
       "1. 83\n",
       "2. 6\n",
       "\n",
       "\n"
      ],
      "text/plain": [
       "[1] 83  6"
      ]
     },
     "metadata": {},
     "output_type": "display_data"
    }
   ],
   "source": [
    "head(t[match(lasso$'#OTU ID',t$node),])\n",
    "dim(t[match(lasso$'#OTU ID',t$node),])"
   ]
  },
  {
   "cell_type": "markdown",
   "metadata": {},
   "source": [
    "which ions either significantly correlate with gestational age, are overrepresented in significant neighbours or were selected by LASSO?"
   ]
  },
  {
   "cell_type": "code",
   "execution_count": 15,
   "metadata": {},
   "outputs": [],
   "source": [
    "tsigs <- t[which(t$sig == 'True' | t$sig_neigh == 'True' | t$lasso == 'True'),]"
   ]
  },
  {
   "cell_type": "code",
   "execution_count": 16,
   "metadata": {},
   "outputs": [
    {
     "data": {
      "text/html": [
       "<table>\n",
       "<caption>A data.frame: 6 × 6</caption>\n",
       "<thead>\n",
       "\t<tr><th></th><th scope=col>node</th><th scope=col>sig</th><th scope=col>p_neigh</th><th scope=col>sig_neigh</th><th scope=col>lasso</th><th scope=col>hits</th></tr>\n",
       "\t<tr><th></th><th scope=col>&lt;int&gt;</th><th scope=col>&lt;chr&gt;</th><th scope=col>&lt;dbl&gt;</th><th scope=col>&lt;chr&gt;</th><th scope=col>&lt;chr&gt;</th><th scope=col>&lt;chr&gt;</th></tr>\n",
       "</thead>\n",
       "<tbody>\n",
       "\t<tr><th scope=row>18</th><td> 309</td><td>True </td><td>7.764734e-02</td><td>False</td><td>False</td><td></td></tr>\n",
       "\t<tr><th scope=row>60</th><td> 748</td><td>False</td><td>1.072255e-03</td><td>True </td><td>False</td><td></td></tr>\n",
       "\t<tr><th scope=row>61</th><td> 764</td><td>False</td><td>1.869112e-11</td><td>True </td><td>False</td><td></td></tr>\n",
       "\t<tr><th scope=row>70</th><td> 819</td><td>False</td><td>3.832410e-02</td><td>True </td><td>False</td><td></td></tr>\n",
       "\t<tr><th scope=row>91</th><td>1001</td><td>True </td><td>1.000000e+00</td><td>False</td><td>False</td><td></td></tr>\n",
       "\t<tr><th scope=row>99</th><td>1037</td><td>False</td><td>1.000000e+00</td><td>False</td><td>True </td><td></td></tr>\n",
       "</tbody>\n",
       "</table>\n"
      ],
      "text/latex": [
       "A data.frame: 6 × 6\n",
       "\\begin{tabular}{r|llllll}\n",
       "  & node & sig & p\\_neigh & sig\\_neigh & lasso & hits\\\\\n",
       "  & <int> & <chr> & <dbl> & <chr> & <chr> & <chr>\\\\\n",
       "\\hline\n",
       "\t18 &  309 & True  & 7.764734e-02 & False & False & \\\\\n",
       "\t60 &  748 & False & 1.072255e-03 & True  & False & \\\\\n",
       "\t61 &  764 & False & 1.869112e-11 & True  & False & \\\\\n",
       "\t70 &  819 & False & 3.832410e-02 & True  & False & \\\\\n",
       "\t91 & 1001 & True  & 1.000000e+00 & False & False & \\\\\n",
       "\t99 & 1037 & False & 1.000000e+00 & False & True  & \\\\\n",
       "\\end{tabular}\n"
      ],
      "text/markdown": [
       "\n",
       "A data.frame: 6 × 6\n",
       "\n",
       "| <!--/--> | node &lt;int&gt; | sig &lt;chr&gt; | p_neigh &lt;dbl&gt; | sig_neigh &lt;chr&gt; | lasso &lt;chr&gt; | hits &lt;chr&gt; |\n",
       "|---|---|---|---|---|---|---|\n",
       "| 18 |  309 | True  | 7.764734e-02 | False | False | <!----> |\n",
       "| 60 |  748 | False | 1.072255e-03 | True  | False | <!----> |\n",
       "| 61 |  764 | False | 1.869112e-11 | True  | False | <!----> |\n",
       "| 70 |  819 | False | 3.832410e-02 | True  | False | <!----> |\n",
       "| 91 | 1001 | True  | 1.000000e+00 | False | False | <!----> |\n",
       "| 99 | 1037 | False | 1.000000e+00 | False | True  | <!----> |\n",
       "\n"
      ],
      "text/plain": [
       "   node sig   p_neigh      sig_neigh lasso hits\n",
       "18  309 True  7.764734e-02 False     False     \n",
       "60  748 False 1.072255e-03 True      False     \n",
       "61  764 False 1.869112e-11 True      False     \n",
       "70  819 False 3.832410e-02 True      False     \n",
       "91 1001 True  1.000000e+00 False     False     \n",
       "99 1037 False 1.000000e+00 False     True      "
      ]
     },
     "metadata": {},
     "output_type": "display_data"
    },
    {
     "data": {
      "text/html": [
       "<style>\n",
       ".list-inline {list-style: none; margin:0; padding: 0}\n",
       ".list-inline>li {display: inline-block}\n",
       ".list-inline>li:not(:last-child)::after {content: \"\\00b7\"; padding: 0 .5ex}\n",
       "</style>\n",
       "<ol class=list-inline><li>1843</li><li>6</li></ol>\n"
      ],
      "text/latex": [
       "\\begin{enumerate*}\n",
       "\\item 1843\n",
       "\\item 6\n",
       "\\end{enumerate*}\n"
      ],
      "text/markdown": [
       "1. 1843\n",
       "2. 6\n",
       "\n",
       "\n"
      ],
      "text/plain": [
       "[1] 1843    6"
      ]
     },
     "metadata": {},
     "output_type": "display_data"
    }
   ],
   "source": [
    "head(tsigs)\n",
    "dim(tsigs)"
   ]
  },
  {
   "cell_type": "code",
   "execution_count": 17,
   "metadata": {},
   "outputs": [
    {
     "data": {
      "text/html": [
       "1459"
      ],
      "text/latex": [
       "1459"
      ],
      "text/markdown": [
       "1459"
      ],
      "text/plain": [
       "[1] 1459"
      ]
     },
     "metadata": {},
     "output_type": "display_data"
    }
   ],
   "source": [
    "length(which(tsigs$sig == 'True'))"
   ]
  },
  {
   "cell_type": "code",
   "execution_count": 19,
   "metadata": {},
   "outputs": [
    {
     "data": {
      "text/html": [
       "617"
      ],
      "text/latex": [
       "617"
      ],
      "text/markdown": [
       "617"
      ],
      "text/plain": [
       "[1] 617"
      ]
     },
     "metadata": {},
     "output_type": "display_data"
    }
   ],
   "source": [
    "length(which(tsigs$sig_neigh == 'True'))"
   ]
  },
  {
   "cell_type": "code",
   "execution_count": 20,
   "metadata": {},
   "outputs": [
    {
     "data": {
      "text/html": [
       "83"
      ],
      "text/latex": [
       "83"
      ],
      "text/markdown": [
       "83"
      ],
      "text/plain": [
       "[1] 83"
      ]
     },
     "metadata": {},
     "output_type": "display_data"
    }
   ],
   "source": [
    "length(which(tsigs$lasso == 'True'))"
   ]
  },
  {
   "cell_type": "code",
   "execution_count": 21,
   "metadata": {},
   "outputs": [
    {
     "data": {
      "text/html": [
       "<table>\n",
       "<caption>A data.frame: 6 × 6</caption>\n",
       "<thead>\n",
       "\t<tr><th></th><th scope=col>node</th><th scope=col>sig</th><th scope=col>p_neigh</th><th scope=col>sig_neigh</th><th scope=col>lasso</th><th scope=col>hits</th></tr>\n",
       "\t<tr><th></th><th scope=col>&lt;int&gt;</th><th scope=col>&lt;chr&gt;</th><th scope=col>&lt;dbl&gt;</th><th scope=col>&lt;chr&gt;</th><th scope=col>&lt;chr&gt;</th><th scope=col>&lt;chr&gt;</th></tr>\n",
       "</thead>\n",
       "<tbody>\n",
       "\t<tr><th scope=row>195</th><td>1764</td><td>True</td><td>0.003958164</td><td>True</td><td>True</td><td>                                      </td></tr>\n",
       "\t<tr><th scope=row>327</th><td>2710</td><td>True</td><td>0.003958164</td><td>True</td><td>True</td><td>                                      </td></tr>\n",
       "\t<tr><th scope=row>871</th><td>3341</td><td>True</td><td>0.004039273</td><td>True</td><td>True</td><td>(CCMSLIB00005464307:N1-ACETYLSPERMINE)</td></tr>\n",
       "\t<tr><th scope=row>2267</th><td>5917</td><td>True</td><td>0.031604197</td><td>True</td><td>True</td><td>                                      </td></tr>\n",
       "\t<tr><th scope=row>2527</th><td>6730</td><td>True</td><td>0.004888264</td><td>True</td><td>True</td><td>                                      </td></tr>\n",
       "\t<tr><th scope=row>2641</th><td>7139</td><td>True</td><td>0.043721107</td><td>True</td><td>True</td><td>                                      </td></tr>\n",
       "</tbody>\n",
       "</table>\n"
      ],
      "text/latex": [
       "A data.frame: 6 × 6\n",
       "\\begin{tabular}{r|llllll}\n",
       "  & node & sig & p\\_neigh & sig\\_neigh & lasso & hits\\\\\n",
       "  & <int> & <chr> & <dbl> & <chr> & <chr> & <chr>\\\\\n",
       "\\hline\n",
       "\t195 & 1764 & True & 0.003958164 & True & True &                                       \\\\\n",
       "\t327 & 2710 & True & 0.003958164 & True & True &                                       \\\\\n",
       "\t871 & 3341 & True & 0.004039273 & True & True & (CCMSLIB00005464307:N1-ACETYLSPERMINE)\\\\\n",
       "\t2267 & 5917 & True & 0.031604197 & True & True &                                       \\\\\n",
       "\t2527 & 6730 & True & 0.004888264 & True & True &                                       \\\\\n",
       "\t2641 & 7139 & True & 0.043721107 & True & True &                                       \\\\\n",
       "\\end{tabular}\n"
      ],
      "text/markdown": [
       "\n",
       "A data.frame: 6 × 6\n",
       "\n",
       "| <!--/--> | node &lt;int&gt; | sig &lt;chr&gt; | p_neigh &lt;dbl&gt; | sig_neigh &lt;chr&gt; | lasso &lt;chr&gt; | hits &lt;chr&gt; |\n",
       "|---|---|---|---|---|---|---|\n",
       "| 195 | 1764 | True | 0.003958164 | True | True | <!----> |\n",
       "| 327 | 2710 | True | 0.003958164 | True | True | <!----> |\n",
       "| 871 | 3341 | True | 0.004039273 | True | True | (CCMSLIB00005464307:N1-ACETYLSPERMINE) |\n",
       "| 2267 | 5917 | True | 0.031604197 | True | True | <!----> |\n",
       "| 2527 | 6730 | True | 0.004888264 | True | True | <!----> |\n",
       "| 2641 | 7139 | True | 0.043721107 | True | True | <!----> |\n",
       "\n"
      ],
      "text/plain": [
       "     node sig  p_neigh     sig_neigh lasso\n",
       "195  1764 True 0.003958164 True      True \n",
       "327  2710 True 0.003958164 True      True \n",
       "871  3341 True 0.004039273 True      True \n",
       "2267 5917 True 0.031604197 True      True \n",
       "2527 6730 True 0.004888264 True      True \n",
       "2641 7139 True 0.043721107 True      True \n",
       "     hits                                  \n",
       "195                                        \n",
       "327                                        \n",
       "871  (CCMSLIB00005464307:N1-ACETYLSPERMINE)\n",
       "2267                                       \n",
       "2527                                       \n",
       "2641                                       "
      ]
     },
     "metadata": {},
     "output_type": "display_data"
    }
   ],
   "source": [
    "tsigs[which(tsigs$sig == 'True' & tsigs$sig_neigh == 'True' & tsigs$lasso == 'True'),]"
   ]
  },
  {
   "cell_type": "markdown",
   "metadata": {},
   "source": [
    "which of those ions have a library match? (subtract 2, as 2 features were annotated manually)"
   ]
  },
  {
   "cell_type": "code",
   "execution_count": 22,
   "metadata": {},
   "outputs": [
    {
     "data": {
      "text/html": [
       "<style>\n",
       ".list-inline {list-style: none; margin:0; padding: 0}\n",
       ".list-inline>li {display: inline-block}\n",
       ".list-inline>li:not(:last-child)::after {content: \"\\00b7\"; padding: 0 .5ex}\n",
       "</style>\n",
       "<ol class=list-inline><li>74</li><li>6</li></ol>\n"
      ],
      "text/latex": [
       "\\begin{enumerate*}\n",
       "\\item 74\n",
       "\\item 6\n",
       "\\end{enumerate*}\n"
      ],
      "text/markdown": [
       "1. 74\n",
       "2. 6\n",
       "\n",
       "\n"
      ],
      "text/plain": [
       "[1] 74  6"
      ]
     },
     "metadata": {},
     "output_type": "display_data"
    }
   ],
   "source": [
    "dim(tsigs[which(tsigs$sig == 'True' & tsigs$hits != ''),])"
   ]
  },
  {
   "cell_type": "code",
   "execution_count": 24,
   "metadata": {},
   "outputs": [],
   "source": [
    "write.table(tsigs[which(tsigs$sig == 'True' & tsigs$hits != ''),], 'AllLibraryMatches_UnivariateCorrelation.txt', sep = '\\t', row.names = F)"
   ]
  },
  {
   "cell_type": "code",
   "execution_count": 23,
   "metadata": {},
   "outputs": [],
   "source": [
    "tsigslib <- tsigs[which(tsigs$hits != ''),]"
   ]
  },
  {
   "cell_type": "code",
   "execution_count": 24,
   "metadata": {},
   "outputs": [
    {
     "data": {
      "text/html": [
       "<table>\n",
       "<caption>A data.frame: 6 × 6</caption>\n",
       "<thead>\n",
       "\t<tr><th></th><th scope=col>node</th><th scope=col>sig</th><th scope=col>p_neigh</th><th scope=col>sig_neigh</th><th scope=col>lasso</th><th scope=col>hits</th></tr>\n",
       "\t<tr><th></th><th scope=col>&lt;int&gt;</th><th scope=col>&lt;chr&gt;</th><th scope=col>&lt;dbl&gt;</th><th scope=col>&lt;chr&gt;</th><th scope=col>&lt;chr&gt;</th><th scope=col>&lt;chr&gt;</th></tr>\n",
       "</thead>\n",
       "<tbody>\n",
       "\t<tr><th scope=row>254</th><td>2270</td><td>True </td><td>1.545147e-05</td><td>True </td><td>False</td><td>(CCMSLIB00005464388:SPERMINE)                             </td></tr>\n",
       "\t<tr><th scope=row>258</th><td>2315</td><td>True </td><td>7.519579e-02</td><td>False</td><td>False</td><td>(CCMSLIB00005464134:L-CARNITINE)                          </td></tr>\n",
       "\t<tr><th scope=row>299</th><td>2637</td><td>True </td><td>8.143536e-01</td><td>False</td><td>False</td><td>(CCMSLIB00003138708:Spectral Match to Phe-Phe from NIST14)</td></tr>\n",
       "\t<tr><th scope=row>303</th><td>2680</td><td>False</td><td>2.755157e-02</td><td>True </td><td>False</td><td>(CCMSLIB00005464316:O-ACETYLCARNITINE)                    </td></tr>\n",
       "\t<tr><th scope=row>313</th><td>2695</td><td>True </td><td>1.138082e-01</td><td>False</td><td>False</td><td>(CCMSLIB00004720318:Gyromitrin)                           </td></tr>\n",
       "\t<tr><th scope=row>333</th><td>2716</td><td>True </td><td>4.039273e-03</td><td>True </td><td>False</td><td>(CCMSLIB00005463985:SPERMIDINE)                           </td></tr>\n",
       "</tbody>\n",
       "</table>\n"
      ],
      "text/latex": [
       "A data.frame: 6 × 6\n",
       "\\begin{tabular}{r|llllll}\n",
       "  & node & sig & p\\_neigh & sig\\_neigh & lasso & hits\\\\\n",
       "  & <int> & <chr> & <dbl> & <chr> & <chr> & <chr>\\\\\n",
       "\\hline\n",
       "\t254 & 2270 & True  & 1.545147e-05 & True  & False & (CCMSLIB00005464388:SPERMINE)                             \\\\\n",
       "\t258 & 2315 & True  & 7.519579e-02 & False & False & (CCMSLIB00005464134:L-CARNITINE)                          \\\\\n",
       "\t299 & 2637 & True  & 8.143536e-01 & False & False & (CCMSLIB00003138708:Spectral Match to Phe-Phe from NIST14)\\\\\n",
       "\t303 & 2680 & False & 2.755157e-02 & True  & False & (CCMSLIB00005464316:O-ACETYLCARNITINE)                    \\\\\n",
       "\t313 & 2695 & True  & 1.138082e-01 & False & False & (CCMSLIB00004720318:Gyromitrin)                           \\\\\n",
       "\t333 & 2716 & True  & 4.039273e-03 & True  & False & (CCMSLIB00005463985:SPERMIDINE)                           \\\\\n",
       "\\end{tabular}\n"
      ],
      "text/markdown": [
       "\n",
       "A data.frame: 6 × 6\n",
       "\n",
       "| <!--/--> | node &lt;int&gt; | sig &lt;chr&gt; | p_neigh &lt;dbl&gt; | sig_neigh &lt;chr&gt; | lasso &lt;chr&gt; | hits &lt;chr&gt; |\n",
       "|---|---|---|---|---|---|---|\n",
       "| 254 | 2270 | True  | 1.545147e-05 | True  | False | (CCMSLIB00005464388:SPERMINE)                              |\n",
       "| 258 | 2315 | True  | 7.519579e-02 | False | False | (CCMSLIB00005464134:L-CARNITINE)                           |\n",
       "| 299 | 2637 | True  | 8.143536e-01 | False | False | (CCMSLIB00003138708:Spectral Match to Phe-Phe from NIST14) |\n",
       "| 303 | 2680 | False | 2.755157e-02 | True  | False | (CCMSLIB00005464316:O-ACETYLCARNITINE)                     |\n",
       "| 313 | 2695 | True  | 1.138082e-01 | False | False | (CCMSLIB00004720318:Gyromitrin)                            |\n",
       "| 333 | 2716 | True  | 4.039273e-03 | True  | False | (CCMSLIB00005463985:SPERMIDINE)                            |\n",
       "\n"
      ],
      "text/plain": [
       "    node sig   p_neigh      sig_neigh lasso\n",
       "254 2270 True  1.545147e-05 True      False\n",
       "258 2315 True  7.519579e-02 False     False\n",
       "299 2637 True  8.143536e-01 False     False\n",
       "303 2680 False 2.755157e-02 True      False\n",
       "313 2695 True  1.138082e-01 False     False\n",
       "333 2716 True  4.039273e-03 True      False\n",
       "    hits                                                      \n",
       "254 (CCMSLIB00005464388:SPERMINE)                             \n",
       "258 (CCMSLIB00005464134:L-CARNITINE)                          \n",
       "299 (CCMSLIB00003138708:Spectral Match to Phe-Phe from NIST14)\n",
       "303 (CCMSLIB00005464316:O-ACETYLCARNITINE)                    \n",
       "313 (CCMSLIB00004720318:Gyromitrin)                           \n",
       "333 (CCMSLIB00005463985:SPERMIDINE)                           "
      ]
     },
     "metadata": {},
     "output_type": "display_data"
    },
    {
     "data": {
      "text/html": [
       "<style>\n",
       ".list-inline {list-style: none; margin:0; padding: 0}\n",
       ".list-inline>li {display: inline-block}\n",
       ".list-inline>li:not(:last-child)::after {content: \"\\00b7\"; padding: 0 .5ex}\n",
       "</style>\n",
       "<ol class=list-inline><li>100</li><li>6</li></ol>\n"
      ],
      "text/latex": [
       "\\begin{enumerate*}\n",
       "\\item 100\n",
       "\\item 6\n",
       "\\end{enumerate*}\n"
      ],
      "text/markdown": [
       "1. 100\n",
       "2. 6\n",
       "\n",
       "\n"
      ],
      "text/plain": [
       "[1] 100   6"
      ]
     },
     "metadata": {},
     "output_type": "display_data"
    }
   ],
   "source": [
    "head(tsigslib)\n",
    "dim(tsigslib)"
   ]
  },
  {
   "cell_type": "code",
   "execution_count": 27,
   "metadata": {},
   "outputs": [],
   "source": [
    "write.table(tsigslib,'SignificantFeatures_withlibraryIDs.txt',sep = '\\t', quote = F, row.names = F)"
   ]
  },
  {
   "cell_type": "code",
   "execution_count": 26,
   "metadata": {},
   "outputs": [],
   "source": [
    "tsigslib_annot <- read.table('SignificantFeatures_withlibraryIDs_ChemicalClasses.txt', comment.char = \"\", check.names = F, sep = '\\t', header = T)"
   ]
  },
  {
   "cell_type": "code",
   "execution_count": 28,
   "metadata": {},
   "outputs": [
    {
     "data": {
      "text/html": [
       "<table>\n",
       "<caption>A data.frame: 6 × 9</caption>\n",
       "<thead>\n",
       "\t<tr><th></th><th scope=col>node</th><th scope=col>sig</th><th scope=col>p_neigh</th><th scope=col>sig_neigh</th><th scope=col>lasso</th><th scope=col>hits</th><th scope=col>Compound_Name_Nice</th><th scope=col>ChemicalClass</th><th scope=col>Notes</th></tr>\n",
       "\t<tr><th></th><th scope=col>&lt;int&gt;</th><th scope=col>&lt;lgl&gt;</th><th scope=col>&lt;fct&gt;</th><th scope=col>&lt;lgl&gt;</th><th scope=col>&lt;lgl&gt;</th><th scope=col>&lt;fct&gt;</th><th scope=col>&lt;fct&gt;</th><th scope=col>&lt;fct&gt;</th><th scope=col>&lt;fct&gt;</th></tr>\n",
       "</thead>\n",
       "<tbody>\n",
       "\t<tr><th scope=row>1</th><td>2270</td><td> TRUE</td><td>1,55E+09   </td><td> TRUE</td><td>FALSE</td><td>(CCMSLIB00005464388:SPERMINE)                             </td><td>Spermine       </td><td>Polyamine </td><td>                                  </td></tr>\n",
       "\t<tr><th scope=row>2</th><td>2315</td><td> TRUE</td><td>0.075195786</td><td>FALSE</td><td>FALSE</td><td>(CCMSLIB00005464134:L-CARNITINE)                          </td><td>Carnitine      </td><td>Carnitine </td><td>                                  </td></tr>\n",
       "\t<tr><th scope=row>3</th><td>2637</td><td> TRUE</td><td>0.814353623</td><td>FALSE</td><td>FALSE</td><td>(CCMSLIB00003138708:Spectral Match to Phe-Phe from NIST14)</td><td>Phe-Phe        </td><td>Dipeptide </td><td>                                  </td></tr>\n",
       "\t<tr><th scope=row>4</th><td>2680</td><td>FALSE</td><td>0.027551575</td><td> TRUE</td><td>FALSE</td><td>(CCMSLIB00005464316:O-ACETYLCARNITINE)                    </td><td>Acetylcarnitine</td><td>Carnitine </td><td>                                  </td></tr>\n",
       "\t<tr><th scope=row>5</th><td>2695</td><td> TRUE</td><td>0.11380824 </td><td>FALSE</td><td>FALSE</td><td>(CCMSLIB00004720318:Gyromitrin)                           </td><td>               </td><td>Amino acid</td><td>False positive could be amino acid</td></tr>\n",
       "\t<tr><th scope=row>6</th><td>2716</td><td> TRUE</td><td>0.004039273</td><td> TRUE</td><td>FALSE</td><td>(CCMSLIB00005463985:SPERMIDINE)                           </td><td>Spermidine     </td><td>Polyamine </td><td>                                  </td></tr>\n",
       "</tbody>\n",
       "</table>\n"
      ],
      "text/latex": [
       "A data.frame: 6 × 9\n",
       "\\begin{tabular}{r|lllllllll}\n",
       "  & node & sig & p\\_neigh & sig\\_neigh & lasso & hits & Compound\\_Name\\_Nice & ChemicalClass & Notes\\\\\n",
       "  & <int> & <lgl> & <fct> & <lgl> & <lgl> & <fct> & <fct> & <fct> & <fct>\\\\\n",
       "\\hline\n",
       "\t1 & 2270 &  TRUE & 1,55E+09    &  TRUE & FALSE & (CCMSLIB00005464388:SPERMINE)                              & Spermine        & Polyamine  &                                   \\\\\n",
       "\t2 & 2315 &  TRUE & 0.075195786 & FALSE & FALSE & (CCMSLIB00005464134:L-CARNITINE)                           & Carnitine       & Carnitine  &                                   \\\\\n",
       "\t3 & 2637 &  TRUE & 0.814353623 & FALSE & FALSE & (CCMSLIB00003138708:Spectral Match to Phe-Phe from NIST14) & Phe-Phe         & Dipeptide  &                                   \\\\\n",
       "\t4 & 2680 & FALSE & 0.027551575 &  TRUE & FALSE & (CCMSLIB00005464316:O-ACETYLCARNITINE)                     & Acetylcarnitine & Carnitine  &                                   \\\\\n",
       "\t5 & 2695 &  TRUE & 0.11380824  & FALSE & FALSE & (CCMSLIB00004720318:Gyromitrin)                            &                 & Amino acid & False positive could be amino acid\\\\\n",
       "\t6 & 2716 &  TRUE & 0.004039273 &  TRUE & FALSE & (CCMSLIB00005463985:SPERMIDINE)                            & Spermidine      & Polyamine  &                                   \\\\\n",
       "\\end{tabular}\n"
      ],
      "text/markdown": [
       "\n",
       "A data.frame: 6 × 9\n",
       "\n",
       "| <!--/--> | node &lt;int&gt; | sig &lt;lgl&gt; | p_neigh &lt;fct&gt; | sig_neigh &lt;lgl&gt; | lasso &lt;lgl&gt; | hits &lt;fct&gt; | Compound_Name_Nice &lt;fct&gt; | ChemicalClass &lt;fct&gt; | Notes &lt;fct&gt; |\n",
       "|---|---|---|---|---|---|---|---|---|---|\n",
       "| 1 | 2270 |  TRUE | 1,55E+09    |  TRUE | FALSE | (CCMSLIB00005464388:SPERMINE)                              | Spermine        | Polyamine  | <!----> |\n",
       "| 2 | 2315 |  TRUE | 0.075195786 | FALSE | FALSE | (CCMSLIB00005464134:L-CARNITINE)                           | Carnitine       | Carnitine  | <!----> |\n",
       "| 3 | 2637 |  TRUE | 0.814353623 | FALSE | FALSE | (CCMSLIB00003138708:Spectral Match to Phe-Phe from NIST14) | Phe-Phe         | Dipeptide  | <!----> |\n",
       "| 4 | 2680 | FALSE | 0.027551575 |  TRUE | FALSE | (CCMSLIB00005464316:O-ACETYLCARNITINE)                     | Acetylcarnitine | Carnitine  | <!----> |\n",
       "| 5 | 2695 |  TRUE | 0.11380824  | FALSE | FALSE | (CCMSLIB00004720318:Gyromitrin)                            | <!----> | Amino acid | False positive could be amino acid |\n",
       "| 6 | 2716 |  TRUE | 0.004039273 |  TRUE | FALSE | (CCMSLIB00005463985:SPERMIDINE)                            | Spermidine      | Polyamine  | <!----> |\n",
       "\n"
      ],
      "text/plain": [
       "  node sig   p_neigh     sig_neigh lasso\n",
       "1 2270  TRUE 1,55E+09     TRUE     FALSE\n",
       "2 2315  TRUE 0.075195786 FALSE     FALSE\n",
       "3 2637  TRUE 0.814353623 FALSE     FALSE\n",
       "4 2680 FALSE 0.027551575  TRUE     FALSE\n",
       "5 2695  TRUE 0.11380824  FALSE     FALSE\n",
       "6 2716  TRUE 0.004039273  TRUE     FALSE\n",
       "  hits                                                       Compound_Name_Nice\n",
       "1 (CCMSLIB00005464388:SPERMINE)                              Spermine          \n",
       "2 (CCMSLIB00005464134:L-CARNITINE)                           Carnitine         \n",
       "3 (CCMSLIB00003138708:Spectral Match to Phe-Phe from NIST14) Phe-Phe           \n",
       "4 (CCMSLIB00005464316:O-ACETYLCARNITINE)                     Acetylcarnitine   \n",
       "5 (CCMSLIB00004720318:Gyromitrin)                                              \n",
       "6 (CCMSLIB00005463985:SPERMIDINE)                            Spermidine        \n",
       "  ChemicalClass Notes                             \n",
       "1 Polyamine                                       \n",
       "2 Carnitine                                       \n",
       "3 Dipeptide                                       \n",
       "4 Carnitine                                       \n",
       "5 Amino acid    False positive could be amino acid\n",
       "6 Polyamine                                       "
      ]
     },
     "metadata": {},
     "output_type": "display_data"
    }
   ],
   "source": [
    "head(tsigslib_annot)"
   ]
  },
  {
   "cell_type": "code",
   "execution_count": 29,
   "metadata": {},
   "outputs": [],
   "source": [
    "lib <- read.table('GNPSLibraryHits.tsv', header = T, comment.char = \"\", quote = \"\", sep = '\\t', check.names = F)"
   ]
  },
  {
   "cell_type": "code",
   "execution_count": 30,
   "metadata": {},
   "outputs": [],
   "source": [
    "tsigslib_annot <- merge(tsigslib_annot,lib, by.x = 'node', by.y = '#Scan#', all.x = T)"
   ]
  },
  {
   "cell_type": "code",
   "execution_count": 31,
   "metadata": {},
   "outputs": [
    {
     "data": {
      "text/html": [
       "<style>\n",
       ".list-inline {list-style: none; margin:0; padding: 0}\n",
       ".list-inline>li {display: inline-block}\n",
       ".list-inline>li:not(:last-child)::after {content: \"\\00b7\"; padding: 0 .5ex}\n",
       "</style>\n",
       "<ol class=list-inline><li>100</li><li>44</li></ol>\n"
      ],
      "text/latex": [
       "\\begin{enumerate*}\n",
       "\\item 100\n",
       "\\item 44\n",
       "\\end{enumerate*}\n"
      ],
      "text/markdown": [
       "1. 100\n",
       "2. 44\n",
       "\n",
       "\n"
      ],
      "text/plain": [
       "[1] 100  44"
      ]
     },
     "metadata": {},
     "output_type": "display_data"
    }
   ],
   "source": [
    "dim(tsigslib_annot)"
   ]
  },
  {
   "cell_type": "markdown",
   "metadata": {},
   "source": [
    "select only library hits with a cosine score of >= 0.9"
   ]
  },
  {
   "cell_type": "code",
   "execution_count": 75,
   "metadata": {},
   "outputs": [],
   "source": [
    "tsigslib_annot <- tsigslib_annot[which(tsigslib_annot$MQScore >= 0.9),]"
   ]
  },
  {
   "cell_type": "code",
   "execution_count": 76,
   "metadata": {},
   "outputs": [
    {
     "data": {
      "text/html": [
       "<style>\n",
       ".list-inline {list-style: none; margin:0; padding: 0}\n",
       ".list-inline>li {display: inline-block}\n",
       ".list-inline>li:not(:last-child)::after {content: \"\\00b7\"; padding: 0 .5ex}\n",
       "</style>\n",
       "<ol class=list-inline><li>53</li><li>44</li></ol>\n"
      ],
      "text/latex": [
       "\\begin{enumerate*}\n",
       "\\item 53\n",
       "\\item 44\n",
       "\\end{enumerate*}\n"
      ],
      "text/markdown": [
       "1. 53\n",
       "2. 44\n",
       "\n",
       "\n"
      ],
      "text/plain": [
       "[1] 53 44"
      ]
     },
     "metadata": {},
     "output_type": "display_data"
    }
   ],
   "source": [
    "dim(tsigslib_annot)"
   ]
  },
  {
   "cell_type": "markdown",
   "metadata": {},
   "source": [
    "import featuretable"
   ]
  },
  {
   "cell_type": "code",
   "execution_count": 32,
   "metadata": {},
   "outputs": [],
   "source": [
    "ft <- read.csv('../../featuretable_blankfiltered_batchnormalised.tsv', sep = '\\t', check.names = F)"
   ]
  },
  {
   "cell_type": "markdown",
   "metadata": {},
   "source": [
    "select all 'significant' ions in the feature table "
   ]
  },
  {
   "cell_type": "code",
   "execution_count": 77,
   "metadata": {},
   "outputs": [],
   "source": [
    "intft <- ft[which(ft$'#OTU ID' %in% tsigslib_annot$node),]"
   ]
  },
  {
   "cell_type": "code",
   "execution_count": 78,
   "metadata": {},
   "outputs": [
    {
     "data": {
      "text/html": [
       "<style>\n",
       ".list-inline {list-style: none; margin:0; padding: 0}\n",
       ".list-inline>li {display: inline-block}\n",
       ".list-inline>li:not(:last-child)::after {content: \"\\00b7\"; padding: 0 .5ex}\n",
       "</style>\n",
       "<ol class=list-inline><li>53</li><li>299</li></ol>\n"
      ],
      "text/latex": [
       "\\begin{enumerate*}\n",
       "\\item 53\n",
       "\\item 299\n",
       "\\end{enumerate*}\n"
      ],
      "text/markdown": [
       "1. 53\n",
       "2. 299\n",
       "\n",
       "\n"
      ],
      "text/plain": [
       "[1]  53 299"
      ]
     },
     "metadata": {},
     "output_type": "display_data"
    }
   ],
   "source": [
    "dim(intft)"
   ]
  },
  {
   "cell_type": "markdown",
   "metadata": {},
   "source": [
    "import metadata"
   ]
  },
  {
   "cell_type": "code",
   "execution_count": 79,
   "metadata": {},
   "outputs": [],
   "source": [
    "md <- read.table('../../metadata.tsv', sep = '\\t', comment.char = '', check.names = F, header = T)"
   ]
  },
  {
   "cell_type": "markdown",
   "metadata": {},
   "source": [
    "import original 150 sample subset"
   ]
  },
  {
   "cell_type": "code",
   "execution_count": 80,
   "metadata": {},
   "outputs": [],
   "source": [
    "md_150 <- read.csv('../../metadata_150.tsv', sep = '\\t', check.names = F, stringsAsFactors = F)"
   ]
  },
  {
   "cell_type": "code",
   "execution_count": 82,
   "metadata": {},
   "outputs": [],
   "source": [
    "md_150 <- md_150[-which(md_150$ATTRIBUTE_SampleType != 'Sample'),]"
   ]
  },
  {
   "cell_type": "code",
   "execution_count": 83,
   "metadata": {},
   "outputs": [
    {
     "data": {
      "text/html": [
       "<style>\n",
       ".list-inline {list-style: none; margin:0; padding: 0}\n",
       ".list-inline>li {display: inline-block}\n",
       ".list-inline>li:not(:last-child)::after {content: \"\\00b7\"; padding: 0 .5ex}\n",
       "</style>\n",
       "<ol class=list-inline><li>148</li><li>14</li></ol>\n"
      ],
      "text/latex": [
       "\\begin{enumerate*}\n",
       "\\item 148\n",
       "\\item 14\n",
       "\\end{enumerate*}\n"
      ],
      "text/markdown": [
       "1. 148\n",
       "2. 14\n",
       "\n",
       "\n"
      ],
      "text/plain": [
       "[1] 148  14"
      ]
     },
     "metadata": {},
     "output_type": "display_data"
    }
   ],
   "source": [
    "dim(md_150)"
   ]
  },
  {
   "cell_type": "code",
   "execution_count": 84,
   "metadata": {},
   "outputs": [],
   "source": [
    "selfiles <- as.character(md$'#SampleID'[which(md$'#SampleID' %in% md_150$filename)])"
   ]
  },
  {
   "cell_type": "code",
   "execution_count": 85,
   "metadata": {},
   "outputs": [],
   "source": [
    "rownames(intft) <- intft$'#OTU ID'"
   ]
  },
  {
   "cell_type": "code",
   "execution_count": 86,
   "metadata": {},
   "outputs": [],
   "source": [
    "intftsel <- intft[,which(colnames(intft) %in% selfiles)]"
   ]
  },
  {
   "cell_type": "code",
   "execution_count": 88,
   "metadata": {},
   "outputs": [],
   "source": [
    "intftsel <- intftsel[,order(md$'Gestationsalder'[match(colnames(intftsel),md$'#SampleID')])]"
   ]
  },
  {
   "cell_type": "code",
   "execution_count": 89,
   "metadata": {},
   "outputs": [],
   "source": [
    "intftsel <- intftsel[order(as.character(tsigslib_annot$ChemicalClass[match(rownames(intftsel),tsigslib_annot$node)])),]"
   ]
  },
  {
   "cell_type": "code",
   "execution_count": 91,
   "metadata": {},
   "outputs": [],
   "source": [
    "my_palette <- colorRampPalette(c(\"blue\", \"white\",\"red\"))(n = 30)"
   ]
  },
  {
   "cell_type": "code",
   "execution_count": 92,
   "metadata": {},
   "outputs": [],
   "source": [
    "cols_row <- viridis(15)"
   ]
  },
  {
   "cell_type": "code",
   "execution_count": 93,
   "metadata": {},
   "outputs": [],
   "source": [
    "cols_col <- brewer.pal(length(unique(as.character(tsigslib_annot$ChemicalClass[match(rownames(intftsel),tsigslib_annot$node)]))), 'Paired')"
   ]
  },
  {
   "cell_type": "code",
   "execution_count": 94,
   "metadata": {},
   "outputs": [],
   "source": [
    "ga_cols <- cols_row[as.numeric(as.factor(md$'Gestationsalder'[match(colnames(intftsel),md$'#SampleID')]))]"
   ]
  },
  {
   "cell_type": "code",
   "execution_count": 95,
   "metadata": {},
   "outputs": [],
   "source": [
    "chemclass_cols <- cols_col[as.numeric(as.factor(as.character(tsigslib_annot$ChemicalClass[match(rownames(intftsel),tsigslib_annot$node)])))]"
   ]
  },
  {
   "cell_type": "code",
   "execution_count": 96,
   "metadata": {},
   "outputs": [],
   "source": [
    "rownames(intftsel) <- paste(rownames(intftsel), as.character(tsigslib_annot$Compound_Name_Nice[match(rownames(intftsel),tsigslib_annot$node)]), sep = '_')"
   ]
  },
  {
   "cell_type": "code",
   "execution_count": 98,
   "metadata": {},
   "outputs": [
    {
     "data": {
      "text/html": [
       "<strong>pdf:</strong> 2"
      ],
      "text/latex": [
       "\\textbf{pdf:} 2"
      ],
      "text/markdown": [
       "**pdf:** 2"
      ],
      "text/plain": [
       "pdf \n",
       "  2 "
      ]
     },
     "metadata": {},
     "output_type": "display_data"
    }
   ],
   "source": [
    "pdf(file=\"Heatmap.pdf\", width=20, height=15)\n",
    "heatmap.2(as.matrix(intftsel), \n",
    "          cexCol = 0.5,\n",
    "          cexRow = 1.3,\n",
    "          scale=\"row\", \n",
    "          margins = c(20, 30), \n",
    "          col = my_palette, \n",
    "          Rowv = TRUE, \n",
    "          Colv = FALSE, \n",
    "          tracecol = NA, \n",
    "          trace='none',\n",
    "          density.info='none',\n",
    "          ColSideColors= ga_cols, \n",
    "          RowSideColors= chemclass_cols, \n",
    "          dendrogram = 'none', \n",
    "          keysize = 0.8,\n",
    "          key.title = '',\n",
    "          key.par = list(cex = 1.5),\n",
    "          key = TRUE) #\n",
    "legend(\"left\", fill = cols_col,\n",
    "       legend = sort(as.character(unique(tsigslib_annot$ChemicalClass))),cex=1.5,horiz = F)\n",
    "dev.off()"
   ]
  }
 ],
 "metadata": {
  "kernelspec": {
   "display_name": "R",
   "language": "R",
   "name": "ir"
  },
  "language_info": {
   "codemirror_mode": "r",
   "file_extension": ".r",
   "mimetype": "text/x-r-source",
   "name": "R",
   "pygments_lexer": "r",
   "version": "3.6.1"
  }
 },
 "nbformat": 4,
 "nbformat_minor": 2
}
